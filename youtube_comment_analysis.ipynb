{
  "nbformat": 4,
  "nbformat_minor": 0,
  "metadata": {
    "colab": {
      "name": "Youtube Comment Analysis.ipynb",
      "provenance": [],
      "collapsed_sections": [],
      "authorship_tag": "ABX9TyNJ4Y0xqa3gpnBr9RWrKGL/"
    },
    "kernelspec": {
      "display_name": "Python 3",
      "name": "python3"
    }
  },
  "cells": [
    {
      "cell_type": "markdown",
      "metadata": {
        "id": "aL2Q4Hb5oKI4"
      },
      "source": [
        "#**Youtube Comments Analysis**\n",
        "\n",
        "In this notebook, I will use Spark to analyse a dataset of user comments for youtube videos related to animals or pets, in order to identify cat or dog owners based on these comments, find out the topics important to them, and then identify video creators with the most viewers that are cat or dog owners.\n"
      ]
    },
    {
      "cell_type": "markdown",
      "metadata": {
        "id": "NpwE55ARZFIF"
      },
      "source": [
        "### **<br>Set up the Spark Environment**<br><br>"
      ]
    },
    {
      "cell_type": "code",
      "metadata": {
        "id": "DxisLL_gn2Sh"
      },
      "source": [
        "!apt-get update\n",
        "!apt-get install openjdk-8-jdk-headless -qq > /dev/null"
      ],
      "execution_count": null,
      "outputs": []
    },
    {
      "cell_type": "code",
      "metadata": {
        "id": "xWepQqa4oU9u"
      },
      "source": [
        "!wget -q http://apache.forsale.plus/spark/spark-2.4.7/spark-2.4.7-bin-hadoop2.7.tgz\n",
        "!ls\n",
        "!tar xf spark-2.4.7-bin-hadoop2.7.tgz"
      ],
      "execution_count": null,
      "outputs": []
    },
    {
      "cell_type": "code",
      "metadata": {
        "id": "vAmk-ho7oWxs"
      },
      "source": [
        "!pip install -q findspark\n",
        "!pip install py4j\n",
        "\n",
        "!export JAVA_HOME=$(/usr/lib/jvm/java-8-openjdk-amd64 -v 1.8)\n",
        "! echo $JAVA_HOME\n",
        "import os\n",
        "os.environ[\"JAVA_HOME\"] = \"/usr/lib/jvm/java-8-openjdk-amd64\"\n",
        "os.environ[\"SPARK_HOME\"] = \"/content/spark-2.4.7-bin-hadoop2.7\"\n",
        "import findspark\n",
        "findspark.init(\"spark-2.4.7-bin-hadoop2.7\")# SPARK_HOME\n",
        "\n",
        "from pyspark.sql import SparkSession\n",
        "spark = SparkSession.builder.master(\"local[*]\").getOrCreate()"
      ],
      "execution_count": null,
      "outputs": []
    },
    {
      "cell_type": "code",
      "metadata": {
        "id": "7DCef8agoYKR",
        "colab": {
          "base_uri": "https://localhost:8080/"
        },
        "outputId": "85bc281c-b42f-4230-9b78-03b073916467"
      },
      "source": [
        "!ls"
      ],
      "execution_count": null,
      "outputs": [
        {
          "output_type": "stream",
          "text": [
            "sample_data  spark-2.4.7-bin-hadoop2.7\tspark-2.4.7-bin-hadoop2.7.tgz\n"
          ],
          "name": "stdout"
        }
      ]
    },
    {
      "cell_type": "code",
      "metadata": {
        "id": "p5MOtzU_oZnS",
        "colab": {
          "base_uri": "https://localhost:8080/",
          "height": 35
        },
        "outputId": "dc553c80-9bbb-4e76-871b-a9e6b74b0341"
      },
      "source": [
        "spark.version"
      ],
      "execution_count": null,
      "outputs": [
        {
          "output_type": "execute_result",
          "data": {
            "application/vnd.google.colaboratory.intrinsic+json": {
              "type": "string"
            },
            "text/plain": [
              "'2.4.7'"
            ]
          },
          "metadata": {
            "tags": []
          },
          "execution_count": 5
        }
      ]
    },
    {
      "cell_type": "code",
      "metadata": {
        "id": "TDpgsWiBobKt"
      },
      "source": [
        "import numpy as np\n",
        "import pandas as pd\n",
        "import seaborn as sns\n",
        "import matplotlib.pyplot as plt\n",
        "%matplotlib inline"
      ],
      "execution_count": null,
      "outputs": []
    },
    {
      "cell_type": "code",
      "metadata": {
        "id": "-Zp7k5bJocj3"
      },
      "source": [
        "import os\n",
        "os.environ['PYSPARK_PYTHON'] = 'python3'"
      ],
      "execution_count": null,
      "outputs": []
    },
    {
      "cell_type": "code",
      "metadata": {
        "id": "ozplMageody8"
      },
      "source": [
        "!pip install -U -q PyDrive\n",
        "\n",
        "from pydrive.auth import GoogleAuth\n",
        "from pydrive.drive import GoogleDrive\n",
        "from google.colab import auth\n",
        "from oauth2client.client import GoogleCredentials\n",
        "\n",
        "auth.authenticate_user()\n",
        "gauth = GoogleAuth()\n",
        "gauth.credentials = GoogleCredentials.get_application_default()\n",
        "drive = GoogleDrive(gauth)"
      ],
      "execution_count": null,
      "outputs": []
    },
    {
      "cell_type": "code",
      "metadata": {
        "id": "eiQQ8AmKovWl"
      },
      "source": [
        "id = \"1o3DsS3jN_t2Mw3TsV0i7ySRmh9kyYi1a\"\n",
        "file = drive.CreateFile({'id':id}) \n",
        "file.GetContentFile('animal_comments.gz') "
      ],
      "execution_count": null,
      "outputs": []
    },
    {
      "cell_type": "markdown",
      "metadata": {
        "id": "rFB57CJ0yzcH"
      },
      "source": [
        "## **<br>1. Data Exploration and Cleaning**"
      ]
    },
    {
      "cell_type": "markdown",
      "metadata": {
        "id": "hCd5Ar-H7O45"
      },
      "source": [
        "### **1.1 Get spark dataframe and drop missing values**<br><br>"
      ]
    },
    {
      "cell_type": "code",
      "metadata": {
        "id": "_CJ6-1I_yrsC",
        "colab": {
          "base_uri": "https://localhost:8080/"
        },
        "outputId": "7b1d3ee1-cbe0-45bf-8a46-6a3eb728f537"
      },
      "source": [
        "df = spark.read.csv('animal_comments.gz', inferSchema=True, header=True)\n",
        "df.show()"
      ],
      "execution_count": null,
      "outputs": [
        {
          "output_type": "stream",
          "text": [
            "+--------------------+------+-------------------------------------+\n",
            "|        creator_name|userid|                              comment|\n",
            "+--------------------+------+-------------------------------------+\n",
            "|        Doug The Pug|  87.0|                 I shared this to ...|\n",
            "|        Doug The Pug|  87.0|                   Super cute  😀🐕🐶|\n",
            "|         bulletproof| 530.0|                 stop saying get e...|\n",
            "|       Meu Zoológico| 670.0|                 Tenho uma jiboia ...|\n",
            "|              ojatro|1031.0|                 I wanna see what ...|\n",
            "|     Tingle Triggers|1212.0|                 Well shit now Im ...|\n",
            "|Hope For Paws - O...|1806.0|                 when I saw the en...|\n",
            "|Hope For Paws - O...|2036.0|                 Holy crap. That i...|\n",
            "|          Life Story|2637.0|武器はクエストで貰えるんじゃないん...|\n",
            "|       Brian Barczyk|2698.0|                 Call the teddy Larry|\n",
            "|            The Dodo|2702.0|                   😐🤔😓😢😭😭😭😭😟|\n",
            "|Hope For Paws - O...|2911.0|                 That mother cat l...|\n",
            "|Hope For Paws - O...|2911.0|                 Its people like H...|\n",
            "|   Talking Kitty Cat|2911.0|                 steve: No wet foo...|\n",
            "|    Brave Wilderness|3224.0|                 Dont call this a ...|\n",
            "|          MaxluvsMya|3267.0|                 why are you alway...|\n",
            "|Rise Up Society F...|3372.0|                           Deb Tucker|\n",
            "|            The Dodo|3466.0|                 Thats a deer isnt...|\n",
            "|    Brave Wilderness|3466.0|                 there is no safe ...|\n",
            "|    Brave Wilderness|3466.0|                 Red before yellow...|\n",
            "+--------------------+------+-------------------------------------+\n",
            "only showing top 20 rows\n",
            "\n"
          ],
          "name": "stdout"
        }
      ]
    },
    {
      "cell_type": "code",
      "metadata": {
        "id": "fCvEP6AM9Pl4",
        "colab": {
          "base_uri": "https://localhost:8080/"
        },
        "outputId": "7aa6b5bb-8d32-46c5-bb82-00264e705b0e"
      },
      "source": [
        "df.count() "
      ],
      "execution_count": null,
      "outputs": [
        {
          "output_type": "execute_result",
          "data": {
            "text/plain": [
              "5820035"
            ]
          },
          "metadata": {
            "tags": []
          },
          "execution_count": 11
        }
      ]
    },
    {
      "cell_type": "code",
      "metadata": {
        "id": "eBBhMDsQ9b0S",
        "colab": {
          "base_uri": "https://localhost:8080/"
        },
        "outputId": "76b56a3d-55a8-493f-f14d-ba3605c33e49"
      },
      "source": [
        "df_clean = df.na.drop(subset=[\"comment\"])\n",
        "df_clean.count()"
      ],
      "execution_count": null,
      "outputs": [
        {
          "output_type": "execute_result",
          "data": {
            "text/plain": [
              "5818984"
            ]
          },
          "metadata": {
            "tags": []
          },
          "execution_count": 12
        }
      ]
    },
    {
      "cell_type": "markdown",
      "metadata": {
        "id": "6YPsf46197-o"
      },
      "source": [
        "### **<br>1.2 Label the data**"
      ]
    },
    {
      "cell_type": "markdown",
      "metadata": {
        "id": "ovH0toyzZpE3"
      },
      "source": [
        "Since this dataset doesn't include labels identifying cat/dog owners vs. other users, I'll first manually label the cat/dog owners using explicit criterions, such as \"my dog/cat\", etc., so as to prepare for classification.<br><br>"
      ]
    },
    {
      "cell_type": "code",
      "metadata": {
        "id": "sUgXG8wr9qzl"
      },
      "source": [
        "# label dog and cat owners manually\n",
        "from pyspark.sql.functions import when\n",
        "from pyspark.sql.functions import col\n",
        "\n",
        "df_clean = df_clean.withColumn(\"label\", \\\n",
        "                           (when(col(\"comment\").like(\"%my dog%\"), 1) \\\n",
        "                           .when(col(\"comment\").like(\"%I have a dog%\"), 1) \\\n",
        "                           .when(col(\"comment\").like(\"%my cat%\"), 1) \\\n",
        "                           .when(col(\"comment\").like(\"%I have a cat%\"), 1) \\\n",
        "                           .when(col(\"comment\").like(\"%my puppy%\"), 1) \\\n",
        "                           .when(col(\"comment\").like(\"%my pup%\"), 1) \\\n",
        "                           .when(col(\"comment\").like(\"%my kitty%\"), 1) \\\n",
        "                           .when(col(\"comment\").like(\"%my pussy%\"), 1) \\\n",
        "                           .otherwise(0)))"
      ],
      "execution_count": null,
      "outputs": []
    },
    {
      "cell_type": "code",
      "metadata": {
        "id": "tSEnwbk--ogl",
        "colab": {
          "base_uri": "https://localhost:8080/"
        },
        "outputId": "699e0f9a-a3b2-4b15-a19e-7b4d7c6b2670"
      },
      "source": [
        "df_clean.show()"
      ],
      "execution_count": null,
      "outputs": [
        {
          "output_type": "stream",
          "text": [
            "+--------------------+------+-------------------------------------+-----+\n",
            "|        creator_name|userid|                              comment|label|\n",
            "+--------------------+------+-------------------------------------+-----+\n",
            "|        Doug The Pug|  87.0|                 I shared this to ...|    0|\n",
            "|        Doug The Pug|  87.0|                   Super cute  😀🐕🐶|    0|\n",
            "|         bulletproof| 530.0|                 stop saying get e...|    0|\n",
            "|       Meu Zoológico| 670.0|                 Tenho uma jiboia ...|    0|\n",
            "|              ojatro|1031.0|                 I wanna see what ...|    0|\n",
            "|     Tingle Triggers|1212.0|                 Well shit now Im ...|    0|\n",
            "|Hope For Paws - O...|1806.0|                 when I saw the en...|    0|\n",
            "|Hope For Paws - O...|2036.0|                 Holy crap. That i...|    0|\n",
            "|          Life Story|2637.0|武器はクエストで貰えるんじゃないん...|    0|\n",
            "|       Brian Barczyk|2698.0|                 Call the teddy Larry|    0|\n",
            "|            The Dodo|2702.0|                   😐🤔😓😢😭😭😭😭😟|    0|\n",
            "|Hope For Paws - O...|2911.0|                 That mother cat l...|    0|\n",
            "|Hope For Paws - O...|2911.0|                 Its people like H...|    0|\n",
            "|   Talking Kitty Cat|2911.0|                 steve: No wet foo...|    0|\n",
            "|    Brave Wilderness|3224.0|                 Dont call this a ...|    0|\n",
            "|          MaxluvsMya|3267.0|                 why are you alway...|    0|\n",
            "|Rise Up Society F...|3372.0|                           Deb Tucker|    0|\n",
            "|            The Dodo|3466.0|                 Thats a deer isnt...|    0|\n",
            "|    Brave Wilderness|3466.0|                 there is no safe ...|    0|\n",
            "|    Brave Wilderness|3466.0|                 Red before yellow...|    0|\n",
            "+--------------------+------+-------------------------------------+-----+\n",
            "only showing top 20 rows\n",
            "\n"
          ],
          "name": "stdout"
        }
      ]
    },
    {
      "cell_type": "code",
      "metadata": {
        "id": "9A6sIhc7-paz",
        "colab": {
          "base_uri": "https://localhost:8080/"
        },
        "outputId": "0b3585c4-646a-4c7f-8e66-1c9bb7723b90"
      },
      "source": [
        "df_clean.filter(col('label') == 1).count()"
      ],
      "execution_count": null,
      "outputs": [
        {
          "output_type": "execute_result",
          "data": {
            "text/plain": [
              "40225"
            ]
          },
          "metadata": {
            "tags": []
          },
          "execution_count": 15
        }
      ]
    },
    {
      "cell_type": "code",
      "metadata": {
        "id": "5Mcb8VbxBQhe",
        "colab": {
          "base_uri": "https://localhost:8080/"
        },
        "outputId": "6eef083a-0a40-4804-8384-c52f1bf3f745"
      },
      "source": [
        "df_clean.filter(col('label') == 0).count()"
      ],
      "execution_count": null,
      "outputs": [
        {
          "output_type": "execute_result",
          "data": {
            "text/plain": [
              "5778759"
            ]
          },
          "metadata": {
            "tags": []
          },
          "execution_count": 16
        }
      ]
    },
    {
      "cell_type": "markdown",
      "metadata": {
        "id": "UPh94sWXbEoi"
      },
      "source": [
        "<br>The label data are rather sparse: less than 1% data are cat/dog owners. Therefore, for the train/test splitting I should not split the data directly by a 4:1 ratio, since the training data may not include any cat/dog owners.<br><br>"
      ]
    },
    {
      "cell_type": "markdown",
      "metadata": {
        "id": "bxAJdKD5_sov"
      },
      "source": [
        "## **1. Data Transformation**"
      ]
    },
    {
      "cell_type": "markdown",
      "metadata": {
        "id": "SRRAXPeu-DIt"
      },
      "source": [
        "### **1.1 Use word2vec model to get feature**"
      ]
    },
    {
      "cell_type": "markdown",
      "metadata": {
        "id": "_XmjTQ_wc7NR"
      },
      "source": [
        "To get the features for classification, I'll first use RegexTokenizer to tokenize comments into words by white spaces and punctuations, and use Word2Vec model to transform words into distributed vectors.<br><br>"
      ]
    },
    {
      "cell_type": "code",
      "metadata": {
        "id": "-auaayTO_Qaw"
      },
      "source": [
        "from pyspark.ml.feature import RegexTokenizer, Word2Vec\n",
        "\n",
        "regexTokenizer = RegexTokenizer(inputCol=\"comment\", outputCol=\"words\", pattern=\"\\\\W\")\n",
        "word2Vec = Word2Vec(inputCol=\"words\", outputCol=\"features\", numPartitions=10)"
      ],
      "execution_count": null,
      "outputs": []
    },
    {
      "cell_type": "code",
      "metadata": {
        "id": "t0k5jPXlWVqt"
      },
      "source": [
        "tokenized = regexTokenizer.transform(df_clean)"
      ],
      "execution_count": null,
      "outputs": []
    },
    {
      "cell_type": "code",
      "metadata": {
        "id": "3xKAzGbnkYkM"
      },
      "source": [
        "word2vecModel = word2Vec.fit(tokenized)"
      ],
      "execution_count": null,
      "outputs": []
    },
    {
      "cell_type": "code",
      "metadata": {
        "id": "q94UnFd5kbQN"
      },
      "source": [
        "dataset = word2vecModel.transform(tokenized)"
      ],
      "execution_count": null,
      "outputs": []
    },
    {
      "cell_type": "code",
      "metadata": {
        "id": "PUvNKNMaWY-c",
        "colab": {
          "base_uri": "https://localhost:8080/"
        },
        "outputId": "f7f4aafc-2d03-4e77-d286-8eea6ab663ff"
      },
      "source": [
        "dataset.show()"
      ],
      "execution_count": null,
      "outputs": [
        {
          "output_type": "stream",
          "text": [
            "+--------------------+------+-------------------------------------+-----+--------------------+--------------------+\n",
            "|        creator_name|userid|                              comment|label|               words|            features|\n",
            "+--------------------+------+-------------------------------------+-----+--------------------+--------------------+\n",
            "|        Doug The Pug|  87.0|                 I shared this to ...|    0|[i, shared, this,...|[-0.0592416396195...|\n",
            "|        Doug The Pug|  87.0|                   Super cute  😀🐕🐶|    0|       [super, cute]|[-0.0693858107551...|\n",
            "|         bulletproof| 530.0|                 stop saying get e...|    0|[stop, saying, ge...|[-0.0500948655588...|\n",
            "|       Meu Zoológico| 670.0|                 Tenho uma jiboia ...|    0|[tenho, uma, jibo...|[-0.1176272143299...|\n",
            "|              ojatro|1031.0|                 I wanna see what ...|    0|[i, wanna, see, w...|[-0.1538532463283...|\n",
            "|     Tingle Triggers|1212.0|                 Well shit now Im ...|    0|[well, shit, now,...|[-0.0523558720946...|\n",
            "|Hope For Paws - O...|1806.0|                 when I saw the en...|    0|[when, i, saw, th...|[-0.0850109684190...|\n",
            "|Hope For Paws - O...|2036.0|                 Holy crap. That i...|    0|[holy, crap, that...|[-0.0291302737851...|\n",
            "|          Life Story|2637.0|武器はクエストで貰えるんじゃないん...|    0|                  []|         (100,[],[])|\n",
            "|       Brian Barczyk|2698.0|                 Call the teddy Larry|    0|[call, the, teddy...|[-0.1600388120859...|\n",
            "|            The Dodo|2702.0|                   😐🤔😓😢😭😭😭😭😟|    0|                  []|         (100,[],[])|\n",
            "|Hope For Paws - O...|2911.0|                 That mother cat l...|    0|[that, mother, ca...|[-0.0547502618494...|\n",
            "|Hope For Paws - O...|2911.0|                 Its people like H...|    0|[its, people, lik...|[-0.1128631052871...|\n",
            "|   Talking Kitty Cat|2911.0|                 steve: No wet foo...|    0|[steve, no, wet, ...|[-0.1267645139755...|\n",
            "|    Brave Wilderness|3224.0|                 Dont call this a ...|    0|[dont, call, this...|[-0.0721068799362...|\n",
            "|          MaxluvsMya|3267.0|                 why are you alway...|    0|[why, are, you, a...|[-0.2025039130821...|\n",
            "|Rise Up Society F...|3372.0|                           Deb Tucker|    0|       [deb, tucker]|[-0.0422175992280...|\n",
            "|            The Dodo|3466.0|                 Thats a deer isnt...|    0|[thats, a, deer, ...|[0.02029070574790...|\n",
            "|    Brave Wilderness|3466.0|                 there is no safe ...|    0|[there, is, no, s...|[-0.0407281471964...|\n",
            "|    Brave Wilderness|3466.0|                 Red before yellow...|    0|[red, before, yel...|[-0.0786179743635...|\n",
            "+--------------------+------+-------------------------------------+-----+--------------------+--------------------+\n",
            "only showing top 20 rows\n",
            "\n"
          ],
          "name": "stdout"
        }
      ]
    },
    {
      "cell_type": "markdown",
      "metadata": {
        "id": "4RoX3xGH_IYZ"
      },
      "source": [
        "### **<br>1.2 Split training testing data**"
      ]
    },
    {
      "cell_type": "markdown",
      "metadata": {
        "id": "1ml_w36Khlha"
      },
      "source": [
        "As previously mentioned, I'll not split the dataset directly, but split the dataset with all cat/dog owners and the dataset with all other users separately, and then union them into training and testing dataset.<br><br>"
      ]
    },
    {
      "cell_type": "code",
      "metadata": {
        "id": "G6ecQbLcoo1W"
      },
      "source": [
        "(lable1_train,lable1_test)=dataset.filter(col('label')==1).randomSplit([0.7, 0.3],seed = 100)\n",
        "(lable0_train, lable0_ex)=dataset.filter(col('label')==0).randomSplit([0.005, 0.995],seed = 100)\n",
        "(lable0_test, lable1_ex2)=lable0_ex.randomSplit([0.002, 0.998],seed = 100)"
      ],
      "execution_count": null,
      "outputs": []
    },
    {
      "cell_type": "code",
      "metadata": {
        "id": "nzkOshVtpGZD"
      },
      "source": [
        "trainingData = lable0_train.union(lable1_train)\n",
        "testData=lable0_test.union(lable1_test)"
      ],
      "execution_count": null,
      "outputs": []
    },
    {
      "cell_type": "code",
      "metadata": {
        "id": "hishoOXOId8x"
      },
      "source": [
        "trainingData = trainingData.cache()\n",
        "testData = testData.cache()"
      ],
      "execution_count": null,
      "outputs": []
    },
    {
      "cell_type": "code",
      "metadata": {
        "id": "7_mGaJYxpPYV",
        "colab": {
          "base_uri": "https://localhost:8080/"
        },
        "outputId": "3dfbac4d-7d8d-4174-b126-5431c7587df9"
      },
      "source": [
        "print(\"Dataset Count: \" + str(dataset.count()))\n",
        "print(\"Training Dataset Count: \" + str(trainingData.count()))\n",
        "print(\"Test Dataset Count: \" + str(testData.count()))"
      ],
      "execution_count": null,
      "outputs": [
        {
          "output_type": "stream",
          "text": [
            "Dataset Count: 5818984\n",
            "Training Dataset Count: 57324\n",
            "Test Dataset Count: 23531\n"
          ],
          "name": "stdout"
        }
      ]
    },
    {
      "cell_type": "code",
      "metadata": {
        "id": "lGdkl1EaE33P",
        "colab": {
          "base_uri": "https://localhost:8080/"
        },
        "outputId": "3f48bed7-dee6-4155-e720-c87f4b3434fc"
      },
      "source": [
        "print(\"Label 1 Count: \")\n",
        "print(\"Training Dataset: \" + str(trainingData.filter(col('label') == 1).count()))\n",
        "print(\"Test Dataset: \" + str(testData.filter(col('label') == 1).count()))"
      ],
      "execution_count": null,
      "outputs": [
        {
          "output_type": "stream",
          "text": [
            "Label 1 Count: \n",
            "Training Dataset: 28178\n",
            "Test Dataset: 12047\n"
          ],
          "name": "stdout"
        }
      ]
    },
    {
      "cell_type": "code",
      "metadata": {
        "id": "5qb9LIEOPgUB",
        "colab": {
          "base_uri": "https://localhost:8080/"
        },
        "outputId": "787df874-08e1-404e-b3de-071195fd26dd"
      },
      "source": [
        "print(\"Label 0 Count: \")\n",
        "print(\"Training Dataset: \" + str(trainingData.filter(col('label') == 0).count()))\n",
        "print(\"Test Dataset: \" + str(testData.filter(col('label') == 0).count()))"
      ],
      "execution_count": null,
      "outputs": [
        {
          "output_type": "stream",
          "text": [
            "Label 0 Count: \n",
            "Training Dataset: 29146\n",
            "Test Dataset: 11484\n"
          ],
          "name": "stdout"
        }
      ]
    },
    {
      "cell_type": "markdown",
      "metadata": {
        "id": "zorYrqV-_qsh"
      },
      "source": [
        "## **<br>2. Model Building, Training and Evaluation**"
      ]
    },
    {
      "cell_type": "markdown",
      "metadata": {
        "id": "KA-CmrI53DNL"
      },
      "source": [
        "For model selection, I'll try three different classifiers: logistic regression, random forest classifier, and gradient boosted trees classifier. For every classifier, I'll first train and evaluate an initial model to get the baseline performance, and then build a 5-fold cross-evaluation model to tune the hyper-parameters using parameter grid and find the best model.<br><br>"
      ]
    },
    {
      "cell_type": "markdown",
      "metadata": {
        "id": "jaYaqJ_FprGG"
      },
      "source": [
        "### **2.1 Build logistic regression model**"
      ]
    },
    {
      "cell_type": "markdown",
      "metadata": {
        "id": "NJquMx2Ckoju"
      },
      "source": [
        "**2.1.1 Build and evaluate an initial LR model**<br><br>"
      ]
    },
    {
      "cell_type": "code",
      "metadata": {
        "id": "y41_fDpNp446"
      },
      "source": [
        "from pyspark.ml.classification import LogisticRegression\n",
        "\n",
        "lr = LogisticRegression(labelCol=\"label\", featuresCol=\"features\", maxIter=10)\n",
        "lrModel = lr.fit(trainingData)"
      ],
      "execution_count": null,
      "outputs": []
    },
    {
      "cell_type": "code",
      "metadata": {
        "id": "M4JnICjrNmiy",
        "colab": {
          "base_uri": "https://localhost:8080/"
        },
        "outputId": "ceeb19ef-b53b-46f4-d721-4c4f3233ce1e"
      },
      "source": [
        "predictions = lrModel.transform(testData)\n",
        "predictions.show()"
      ],
      "execution_count": null,
      "outputs": [
        {
          "output_type": "stream",
          "text": [
            "+------------+--------+--------------------+-----+--------------------+--------------------+--------------------+--------------------+----------+\n",
            "|creator_name|  userid|             comment|label|               words|            features|       rawPrediction|         probability|prediction|\n",
            "+------------+--------+--------------------+-----+--------------------+--------------------+--------------------+--------------------+----------+\n",
            "|        null| 18714.0|Pyara write by freed|    0|[pyara, write, by...|[-0.1094990409910...|[7.38441844464278...|[0.99937953359934...|       0.0|\n",
            "|        null| 20999.0|@JayPerView Steve...|    0|[jayperview, stev...|[-0.1273555860130...|[5.15580096990588...|[0.99426719460822...|       0.0|\n",
            "|        null| 24314.0|season 2 is almos...|    0|[season, 2, is, a...|[-0.2163066130808...|[4.09492946800258...|[0.98361598613859...|       0.0|\n",
            "|        null| 47748.0|Great picks! You ...|    0|[great, picks, yo...|[-0.1148337381226...|[-0.7493699753185...|[0.32095859554288...|       1.0|\n",
            "|        null| 97815.0|A real horse woul...|    0|[a, real, horse, ...|[-0.1697133151348...|[2.28745816368247...|[0.90783298925864...|       0.0|\n",
            "|        null|147693.0|Ikr I HATED Elena...|    0|[ikr, i, hated, e...|[-0.0830796126727...|[0.81991911034245...|[0.69421916920911...|       0.0|\n",
            "|        null|205004.0|  Ahhhh 😥😁😁😁cool|    0|       [ahhhh, cool]|[0.05183250084519...|[17.1555522997489...|[0.99999996456452...|       0.0|\n",
            "|        null|247457.0|Amazing keep it up👍|    0|[amazing, keep, i...|[0.00466738129034...|[3.82260320926057...|[0.97859730150270...|       0.0|\n",
            "|        null|333142.0|       I LOVE STEFAN|    0|   [i, love, stefan]|[-0.1867455715934...|[9.57772447724721...|[0.99993075043740...|       0.0|\n",
            "|        null|354897.0|Хорошее видео! Па...|    0|                  []|         (100,[],[])|[1.56983279690953...|[0.82775977083725...|       0.0|\n",
            "|        null|358663.0|dude I cant wait ...|    0|[dude, i, cant, w...|[-0.1518448248505...|[5.13901880619392...|[0.99417073945696...|       0.0|\n",
            "|        null|410882.0|THIS EPISODE ALWA...|    0|[this, episode, a...|[-0.1530509945985...|[3.65505452688917...|[0.97479179890818...|       0.0|\n",
            "|        null|499529.0|Chula Chula beaut...|    0|[chula, chula, be...|[0.10577819868922...|[5.07083192363405...|[0.99376196156834...|       0.0|\n",
            "|        null|521306.0|Stop that!!! You ...|    0|[stop, that, you,...|[-0.1818398681602...|[3.12938014545715...|[0.95808850980069...|       0.0|\n",
            "|        null|579266.0|No Noora is gonna...|    0|[no, noora, is, g...|[-0.1302821138689...|[2.96663479632155...|[0.95104383253889...|       0.0|\n",
            "|        null|635831.0|first guy probabl...|    0|[first, guy, prob...|[-0.1187467889860...|[2.06224653651217...|[0.88717922647675...|       0.0|\n",
            "|        null|696942.0|sois unos hijos d...|    0|[sois, unos, hijo...|[-0.0343206673545...|[17.3777281656726...|[0.99999997162417...|       0.0|\n",
            "|        null|699217.0|All I saw was dea...|    0|[all, i, saw, was...|[-0.1065948501539...|[4.19014641631056...|[0.98508185403531...|       0.0|\n",
            "|        null|772470.0|Tsetsi have you e...|    0|[tsetsi, have, yo...|[-0.1842501496637...|[2.81647323371124...|[0.94355954227051...|       0.0|\n",
            "|        null|772548.0|      RIP Shiva!  :(|    0|        [rip, shiva]|[-0.2208771370351...|[8.87602126652605...|[0.99986032062713...|       0.0|\n",
            "+------------+--------+--------------------+-----+--------------------+--------------------+--------------------+--------------------+----------+\n",
            "only showing top 20 rows\n",
            "\n"
          ],
          "name": "stdout"
        }
      ]
    },
    {
      "cell_type": "code",
      "metadata": {
        "id": "6ixkuDBONMA_",
        "colab": {
          "base_uri": "https://localhost:8080/"
        },
        "outputId": "01d50cb1-87b1-444b-b0b1-24fe94375652"
      },
      "source": [
        "lrModel.coefficients"
      ],
      "execution_count": null,
      "outputs": [
        {
          "output_type": "execute_result",
          "data": {
            "text/plain": [
              "DenseVector([0.9552, -0.1075, 2.3018, -3.5171, 4.5903, -6.5384, 7.2889, 3.0548, -2.926, 4.4528, -6.563, 5.6296, -4.0702, 2.6913, -3.1774, 2.4336, -2.7731, 3.0708, 4.8649, -2.7973, -2.8165, 7.2416, 1.6482, 4.2717, -4.4145, -4.496, 3.2212, 5.5335, -7.5836, -3.774, 7.9775, 6.9195, 0.2822, 6.8689, -2.4032, 1.5928, -1.2289, -0.3882, 2.793, -3.7013, -3.663, 0.3213, -2.7048, -5.2256, 0.5657, -3.7991, -1.0758, 0.1321, 1.6281, -1.3595, -0.234, -4.5776, 2.5944, 3.8001, -0.6366, 4.1605, -4.6877, 4.2165, -1.1052, -0.0912, 5.6022, -2.3918, 0.7603, 2.5646, -3.0246, 1.7224, 1.9938, -2.8401, 6.2146, -7.4925, -6.5074, 1.9403, -1.6801, -6.0513, 8.5908, 1.8044, -2.7063, -1.0907, -0.2914, -5.1881, 0.79, -3.693, -4.8398, -3.7377, 4.7908, -0.245, -7.7795, 2.1381, -0.7948, -4.7391, -6.857, 2.7838, -6.3712, 0.6656, -2.9488, -2.496, -2.0075, -5.8965, -1.8902, 5.631])"
            ]
          },
          "metadata": {
            "tags": []
          },
          "execution_count": 38
        }
      ]
    },
    {
      "cell_type": "code",
      "metadata": {
        "id": "0yYJJpVBOTJO",
        "colab": {
          "base_uri": "https://localhost:8080/"
        },
        "outputId": "667ae756-0162-421d-de88-25d03ffc7bf7"
      },
      "source": [
        "from pyspark.ml.evaluation import BinaryClassificationEvaluator # metric: area under ROC\n",
        "\n",
        "# Evaluate initial model\n",
        "evaluator = BinaryClassificationEvaluator(rawPredictionCol=\"rawPrediction\")\n",
        "evaluator.evaluate(predictions)"
      ],
      "execution_count": null,
      "outputs": [
        {
          "output_type": "execute_result",
          "data": {
            "text/plain": [
              "0.9551466641870903"
            ]
          },
          "metadata": {
            "tags": []
          },
          "execution_count": 39
        }
      ]
    },
    {
      "cell_type": "markdown",
      "metadata": {
        "id": "we2IRZccloik"
      },
      "source": [
        "**<br>2.1.2 Build a cross-validation model and tune hyperparameters**<br><br>"
      ]
    },
    {
      "cell_type": "code",
      "metadata": {
        "id": "qHTo6AfSOh-D"
      },
      "source": [
        "from pyspark.ml.tuning import ParamGridBuilder, CrossValidator\n",
        "\n",
        "# Create ParamGrid for Cross Validation\n",
        "paramGrid = (ParamGridBuilder()\n",
        "             .addGrid(lr.regParam, [0.001, 0.01, 1, 5, 10])\n",
        "             .addGrid(lr.elasticNetParam, [0.0, 0.5, 1.0])\n",
        "             .addGrid(lr.maxIter, [5, 10, 20])\n",
        "             .build())"
      ],
      "execution_count": null,
      "outputs": []
    },
    {
      "cell_type": "code",
      "metadata": {
        "id": "IIkg6GxwOmRZ"
      },
      "source": [
        "# Create 5-fold CrossValidator\n",
        "cv = CrossValidator(estimator=lr, estimatorParamMaps=paramGrid, evaluator=evaluator, numFolds=5)\n",
        "\n",
        "# Run cross validations\n",
        "cvModel = cv.fit(trainingData)"
      ],
      "execution_count": null,
      "outputs": []
    },
    {
      "cell_type": "code",
      "metadata": {
        "id": "xrRhtF_ZOoV2",
        "colab": {
          "base_uri": "https://localhost:8080/"
        },
        "outputId": "9b3f526f-67d3-43cb-c223-317b26832022"
      },
      "source": [
        "cv_predictions = cvModel.transform(testData)\n",
        "cv_predictions.show()"
      ],
      "execution_count": null,
      "outputs": [
        {
          "output_type": "stream",
          "text": [
            "+------------+--------+--------------------+-----+--------------------+--------------------+--------------------+--------------------+----------+\n",
            "|creator_name|  userid|             comment|label|               words|            features|       rawPrediction|         probability|prediction|\n",
            "+------------+--------+--------------------+-----+--------------------+--------------------+--------------------+--------------------+----------+\n",
            "|        null| 18714.0|Pyara write by freed|    0|[pyara, write, by...|[-0.1094990409910...|[6.59673747596852...|[0.99863704665838...|       0.0|\n",
            "|        null| 20999.0|@JayPerView Steve...|    0|[jayperview, stev...|[-0.1273555860130...|[4.85515959441611...|[0.99227209530136...|       0.0|\n",
            "|        null| 24314.0|season 2 is almos...|    0|[season, 2, is, a...|[-0.2163066130808...|[3.48376377056917...|[0.97022225207852...|       0.0|\n",
            "|        null| 47748.0|Great picks! You ...|    0|[great, picks, yo...|[-0.1148337381226...|[-1.3217798315453...|[0.21052232829977...|       1.0|\n",
            "|        null| 97815.0|A real horse woul...|    0|[a, real, horse, ...|[-0.1697133151348...|[1.95281583976444...|[0.87575335601108...|       0.0|\n",
            "|        null|147693.0|Ikr I HATED Elena...|    0|[ikr, i, hated, e...|[-0.0830796126727...|[0.36570304035588...|[0.59042027488465...|       0.0|\n",
            "|        null|205004.0|  Ahhhh 😥😁😁😁cool|    0|       [ahhhh, cool]|[0.05183250084519...|[15.2655643688772...|[0.99999976544238...|       0.0|\n",
            "|        null|247457.0|Amazing keep it up👍|    0|[amazing, keep, i...|[0.00466738129034...|[3.74503161655182...|[0.97691082806669...|       0.0|\n",
            "|        null|333142.0|       I LOVE STEFAN|    0|   [i, love, stefan]|[-0.1867455715934...|[8.16677728485257...|[0.99971614902008...|       0.0|\n",
            "|        null|354897.0|Хорошее видео! Па...|    0|                  []|         (100,[],[])|[3.27588036065664...|[0.96359203237635...|       0.0|\n",
            "|        null|358663.0|dude I cant wait ...|    0|[dude, i, cant, w...|[-0.1518448248505...|[4.29347282228712...|[0.98652659873081...|       0.0|\n",
            "|        null|410882.0|THIS EPISODE ALWA...|    0|[this, episode, a...|[-0.1530509945985...|[3.31158955406378...|[0.96482426759362...|       0.0|\n",
            "|        null|499529.0|Chula Chula beaut...|    0|[chula, chula, be...|[0.10577819868922...|[5.62508562172487...|[0.99640670399028...|       0.0|\n",
            "|        null|521306.0|Stop that!!! You ...|    0|[stop, that, you,...|[-0.1818398681602...|[2.88187159966592...|[0.94694297516590...|       0.0|\n",
            "|        null|579266.0|No Noora is gonna...|    0|[no, noora, is, g...|[-0.1302821138689...|[3.00512890474576...|[0.95280529650688...|       0.0|\n",
            "|        null|635831.0|first guy probabl...|    0|[first, guy, prob...|[-0.1187467889860...|[1.75699292969012...|[0.85283264573154...|       0.0|\n",
            "|        null|696942.0|sois unos hijos d...|    0|[sois, unos, hijo...|[-0.0343206673545...|[17.4778236632150...|[0.99999997432694...|       0.0|\n",
            "|        null|699217.0|All I saw was dea...|    0|[all, i, saw, was...|[-0.1065948501539...|[4.00540267511702...|[0.98210896781123...|       0.0|\n",
            "|        null|772470.0|Tsetsi have you e...|    0|[tsetsi, have, yo...|[-0.1842501496637...|[2.41821786922914...|[0.91820599956413...|       0.0|\n",
            "|        null|772548.0|      RIP Shiva!  :(|    0|        [rip, shiva]|[-0.2208771370351...|[7.07742168708846...|[0.99915676534148...|       0.0|\n",
            "+------------+--------+--------------------+-----+--------------------+--------------------+--------------------+--------------------+----------+\n",
            "only showing top 20 rows\n",
            "\n"
          ],
          "name": "stdout"
        }
      ]
    },
    {
      "cell_type": "code",
      "metadata": {
        "id": "tZK9-SmPe0T_"
      },
      "source": [
        "area_under_roc = evaluator.evaluate(cv_predictions)"
      ],
      "execution_count": null,
      "outputs": []
    },
    {
      "cell_type": "code",
      "metadata": {
        "id": "IG2Jlo9b4mWr"
      },
      "source": [
        "accuracy = cv_predictions.filter(col('label')==col('prediction')).count()/cv_predictions.count()"
      ],
      "execution_count": null,
      "outputs": []
    },
    {
      "cell_type": "code",
      "metadata": {
        "id": "MFcaqAhXfAAw"
      },
      "source": [
        "bestModel = cvModel.bestModel"
      ],
      "execution_count": null,
      "outputs": []
    },
    {
      "cell_type": "code",
      "metadata": {
        "id": "wcfYYUoKqVlE",
        "colab": {
          "base_uri": "https://localhost:8080/"
        },
        "outputId": "1339f9ff-f665-4012-dec2-f786558f4e05"
      },
      "source": [
        "bestModel.coefficients"
      ],
      "execution_count": null,
      "outputs": [
        {
          "output_type": "execute_result",
          "data": {
            "text/plain": [
              "DenseVector([-1.3479, -1.3667, 0.3811, -3.688, 2.8107, -5.8493, 4.5848, 2.6023, -2.8941, 4.7755, -7.0059, 4.8859, -5.2408, 2.1127, -2.5682, 2.8251, -5.1032, 2.0021, 5.7941, -2.5361, -2.9226, 6.9883, 1.7731, 2.2277, -4.1499, -4.1874, 0.3726, 3.7391, -6.2234, -4.1053, 6.9704, 5.279, -1.0014, 6.028, -1.2007, 0.8649, -0.2546, -0.1027, 1.8787, -2.1452, -3.5057, 1.4449, -2.9878, -5.7037, 2.257, -5.3013, -2.2764, -0.4986, 3.3596, -3.302, -1.9306, -4.3285, 1.5488, 3.2232, 0.915, 4.6957, -3.6769, 2.3433, -1.5759, 0.7596, 4.896, -2.2635, -0.1041, 3.2987, -3.2362, 1.8209, 1.5144, -1.475, 5.5471, -7.8385, -5.3483, 0.4951, -1.8647, -3.1386, 9.1547, 0.3117, -6.0649, -0.1988, 1.0914, -6.0131, 0.905, -3.2294, -2.1881, -4.377, 3.9302, 0.0092, -5.4922, 2.3635, -2.6198, -5.0918, -5.527, 1.0424, -5.395, 1.8298, -3.052, -1.8659, -3.1068, -5.2809, -1.3509, 5.6448])"
            ]
          },
          "metadata": {
            "tags": []
          },
          "execution_count": 46
        }
      ]
    },
    {
      "cell_type": "code",
      "metadata": {
        "id": "2o0gqS79fJZr",
        "colab": {
          "base_uri": "https://localhost:8080/"
        },
        "outputId": "a7090595-28d1-4367-ba10-c89efa1ccf12"
      },
      "source": [
        "# Print evaluation metrics and best model parameters\n",
        "print('Area under ROC = ' + str(area_under_roc))\n",
        "print('Accuracy = ' + str(accuracy))\n",
        "print('**Best Model**')\n",
        "print(' MaxIter: ' + str(bestModel._java_obj.parent().getMaxIter()))\n",
        "print(' RegParam: ' + str(bestModel._java_obj.parent().getRegParam()))\n",
        "print(' ElasticNetParam: ' + str(bestModel._java_obj.parent().getElasticNetParam()))"
      ],
      "execution_count": null,
      "outputs": [
        {
          "output_type": "stream",
          "text": [
            "Area under ROC = 0.9570132937761288\n",
            "Accuracy = 0.9008541923420169\n",
            "**Best Model**\n",
            " MaxIter: 20\n",
            " RegParam: 0.001\n",
            " ElasticNetParam: 0.0\n"
          ],
          "name": "stdout"
        }
      ]
    },
    {
      "cell_type": "markdown",
      "metadata": {
        "id": "OCTcdggVqDxn"
      },
      "source": [
        "### **<br>2.2 Build random forest model**"
      ]
    },
    {
      "cell_type": "markdown",
      "metadata": {
        "id": "GhB_YytQqvlh"
      },
      "source": [
        "**2.2.1 Build and evaluate an initial RF model**<br><br>"
      ]
    },
    {
      "cell_type": "code",
      "metadata": {
        "id": "hGdvITMbkSLi"
      },
      "source": [
        "from pyspark.ml.classification import RandomForestClassifier\n",
        "\n",
        "# Create an initial RandomForest model\n",
        "rf = RandomForestClassifier(labelCol=\"label\", featuresCol=\"features\")\n",
        "rfModel = rf.fit(trainingData)"
      ],
      "execution_count": null,
      "outputs": []
    },
    {
      "cell_type": "code",
      "metadata": {
        "id": "7yz2bhtuq6eZ"
      },
      "source": [
        "predictions = rfModel.transform(testData)"
      ],
      "execution_count": null,
      "outputs": []
    },
    {
      "cell_type": "code",
      "metadata": {
        "id": "pivmScJ2q_yf",
        "colab": {
          "base_uri": "https://localhost:8080/"
        },
        "outputId": "5a59e1cd-a41e-441e-f57e-ca416c0f80db"
      },
      "source": [
        "predictions.show()"
      ],
      "execution_count": null,
      "outputs": [
        {
          "output_type": "stream",
          "text": [
            "+------------+--------+--------------------+-----+--------------------+--------------------+--------------------+--------------------+----------+\n",
            "|creator_name|  userid|             comment|label|               words|            features|       rawPrediction|         probability|prediction|\n",
            "+------------+--------+--------------------+-----+--------------------+--------------------+--------------------+--------------------+----------+\n",
            "|        null| 18714.0|Pyara write by freed|    0|[pyara, write, by...|[-0.1094990409910...|[17.6811580053921...|[0.88405790026960...|       0.0|\n",
            "|        null| 20999.0|@JayPerView Steve...|    0|[jayperview, stev...|[-0.1273555860130...|[16.8911131539817...|[0.84455565769908...|       0.0|\n",
            "|        null| 24314.0|season 2 is almos...|    0|[season, 2, is, a...|[-0.2163066130808...|[12.6619781489506...|[0.63309890744753...|       0.0|\n",
            "|        null| 47748.0|Great picks! You ...|    0|[great, picks, yo...|[-0.1148337381226...|[13.2951002312078...|[0.66475501156039...|       0.0|\n",
            "|        null| 97815.0|A real horse woul...|    0|[a, real, horse, ...|[-0.1697133151348...|[13.6881553010001...|[0.68440776505000...|       0.0|\n",
            "|        null|147693.0|Ikr I HATED Elena...|    0|[ikr, i, hated, e...|[-0.0830796126727...|[9.37851196135818...|[0.46892559806790...|       1.0|\n",
            "|        null|205004.0|  Ahhhh 😥😁😁😁cool|    0|       [ahhhh, cool]|[0.05183250084519...|[17.5496846187803...|[0.87748423093901...|       0.0|\n",
            "|        null|247457.0|Amazing keep it up👍|    0|[amazing, keep, i...|[0.00466738129034...|[16.1462356679570...|[0.80731178339785...|       0.0|\n",
            "|        null|333142.0|       I LOVE STEFAN|    0|   [i, love, stefan]|[-0.1867455715934...|[15.9289285889477...|[0.79644642944738...|       0.0|\n",
            "|        null|354897.0|Хорошее видео! Па...|    0|                  []|         (100,[],[])|[18.7197107801309...|[0.93598553900654...|       0.0|\n",
            "|        null|358663.0|dude I cant wait ...|    0|[dude, i, cant, w...|[-0.1518448248505...|[15.8249937391178...|[0.79124968695589...|       0.0|\n",
            "|        null|410882.0|THIS EPISODE ALWA...|    0|[this, episode, a...|[-0.1530509945985...|[12.6944591460367...|[0.63472295730183...|       0.0|\n",
            "|        null|499529.0|Chula Chula beaut...|    0|[chula, chula, be...|[0.10577819868922...|[17.0212677249242...|[0.85106338624621...|       0.0|\n",
            "|        null|521306.0|Stop that!!! You ...|    0|[stop, that, you,...|[-0.1818398681602...|[15.4363743922059...|[0.77181871961029...|       0.0|\n",
            "|        null|579266.0|No Noora is gonna...|    0|[no, noora, is, g...|[-0.1302821138689...|[16.5831471726599...|[0.82915735863299...|       0.0|\n",
            "|        null|635831.0|first guy probabl...|    0|[first, guy, prob...|[-0.1187467889860...|[7.38524433785142...|[0.36926221689257...|       1.0|\n",
            "|        null|696942.0|sois unos hijos d...|    0|[sois, unos, hijo...|[-0.0343206673545...|[18.7348820232308...|[0.93674410116154...|       0.0|\n",
            "|        null|699217.0|All I saw was dea...|    0|[all, i, saw, was...|[-0.1065948501539...|[14.4180309933281...|[0.72090154966640...|       0.0|\n",
            "|        null|772470.0|Tsetsi have you e...|    0|[tsetsi, have, yo...|[-0.1842501496637...|[13.8203015761109...|[0.69101507880554...|       0.0|\n",
            "|        null|772548.0|      RIP Shiva!  :(|    0|        [rip, shiva]|[-0.2208771370351...|[13.4273376833596...|[0.67136688416798...|       0.0|\n",
            "+------------+--------+--------------------+-----+--------------------+--------------------+--------------------+--------------------+----------+\n",
            "only showing top 20 rows\n",
            "\n"
          ],
          "name": "stdout"
        }
      ]
    },
    {
      "cell_type": "code",
      "metadata": {
        "id": "of3xr9PArEdr",
        "colab": {
          "base_uri": "https://localhost:8080/"
        },
        "outputId": "2b600e1d-b4e6-4312-808d-c46a02dd4a0f"
      },
      "source": [
        "evaluator = BinaryClassificationEvaluator()\n",
        "evaluator.evaluate(predictions)"
      ],
      "execution_count": null,
      "outputs": [
        {
          "output_type": "execute_result",
          "data": {
            "text/plain": [
              "0.9499768113319492"
            ]
          },
          "metadata": {
            "tags": []
          },
          "execution_count": 51
        }
      ]
    },
    {
      "cell_type": "markdown",
      "metadata": {
        "id": "kfkGciLerjo-"
      },
      "source": [
        "**<br>2.2.2 Build and tune a CV model**<br><br>"
      ]
    },
    {
      "cell_type": "code",
      "metadata": {
        "id": "ypkcRzN-rXIa"
      },
      "source": [
        "paramGrid = (ParamGridBuilder()\n",
        "             .addGrid(rf.maxDepth, [3, 5, 7])\n",
        "             .addGrid(rf.maxBins, [32, 60])\n",
        "             .addGrid(rf.numTrees, [10, 20])\n",
        "             .build())"
      ],
      "execution_count": null,
      "outputs": []
    },
    {
      "cell_type": "code",
      "metadata": {
        "id": "URuPWXXNs3zl"
      },
      "source": [
        "cv = CrossValidator(estimator=rf, estimatorParamMaps=paramGrid, evaluator=evaluator, numFolds=5)\n",
        "cvModel = cv.fit(trainingData)"
      ],
      "execution_count": null,
      "outputs": []
    },
    {
      "cell_type": "code",
      "metadata": {
        "id": "q2PGxFsQs7gf",
        "colab": {
          "base_uri": "https://localhost:8080/"
        },
        "outputId": "c44519de-48ca-4553-bb71-3043297c48cd"
      },
      "source": [
        "cv_predictions = cvModel.transform(testData)\n",
        "cv_predictions.show()"
      ],
      "execution_count": null,
      "outputs": [
        {
          "output_type": "stream",
          "text": [
            "+------------+--------+--------------------+-----+--------------------+--------------------+--------------------+--------------------+----------+\n",
            "|creator_name|  userid|             comment|label|               words|            features|       rawPrediction|         probability|prediction|\n",
            "+------------+--------+--------------------+-----+--------------------+--------------------+--------------------+--------------------+----------+\n",
            "|        null| 18714.0|Pyara write by freed|    0|[pyara, write, by...|[-0.1094990409910...|[18.3914373988410...|[0.91957186994205...|       0.0|\n",
            "|        null| 20999.0|@JayPerView Steve...|    0|[jayperview, stev...|[-0.1273555860130...|[17.5505390427106...|[0.87752695213553...|       0.0|\n",
            "|        null| 24314.0|season 2 is almos...|    0|[season, 2, is, a...|[-0.2163066130808...|[14.5358958831694...|[0.72679479415847...|       0.0|\n",
            "|        null| 47748.0|Great picks! You ...|    0|[great, picks, yo...|[-0.1148337381226...|[14.2760268712635...|[0.71380134356317...|       0.0|\n",
            "|        null| 97815.0|A real horse woul...|    0|[a, real, horse, ...|[-0.1697133151348...|[13.7306421326884...|[0.68653210663442...|       0.0|\n",
            "|        null|147693.0|Ikr I HATED Elena...|    0|[ikr, i, hated, e...|[-0.0830796126727...|[8.32317057253858...|[0.41615852862692...|       1.0|\n",
            "|        null|205004.0|  Ahhhh 😥😁😁😁cool|    0|       [ahhhh, cool]|[0.05183250084519...|[18.1812430392924...|[0.90906215196462...|       0.0|\n",
            "|        null|247457.0|Amazing keep it up👍|    0|[amazing, keep, i...|[0.00466738129034...|[17.6845658612513...|[0.88422829306256...|       0.0|\n",
            "|        null|333142.0|       I LOVE STEFAN|    0|   [i, love, stefan]|[-0.1867455715934...|[16.8498990974914...|[0.84249495487457...|       0.0|\n",
            "|        null|354897.0|Хорошее видео! Па...|    0|                  []|         (100,[],[])|[19.7144228065163...|[0.98572114032581...|       0.0|\n",
            "|        null|358663.0|dude I cant wait ...|    0|[dude, i, cant, w...|[-0.1518448248505...|[16.7440856622106...|[0.83720428311053...|       0.0|\n",
            "|        null|410882.0|THIS EPISODE ALWA...|    0|[this, episode, a...|[-0.1530509945985...|[13.8662536163298...|[0.69331268081649...|       0.0|\n",
            "|        null|499529.0|Chula Chula beaut...|    0|[chula, chula, be...|[0.10577819868922...|[17.3020723950140...|[0.86510361975070...|       0.0|\n",
            "|        null|521306.0|Stop that!!! You ...|    0|[stop, that, you,...|[-0.1818398681602...|[16.7229856698554...|[0.83614928349277...|       0.0|\n",
            "|        null|579266.0|No Noora is gonna...|    0|[no, noora, is, g...|[-0.1302821138689...|[17.6432501595504...|[0.88216250797752...|       0.0|\n",
            "|        null|635831.0|first guy probabl...|    0|[first, guy, prob...|[-0.1187467889860...|[7.48085809387684...|[0.37404290469384...|       1.0|\n",
            "|        null|696942.0|sois unos hijos d...|    0|[sois, unos, hijo...|[-0.0343206673545...|[19.7633578509574...|[0.98816789254787...|       0.0|\n",
            "|        null|699217.0|All I saw was dea...|    0|[all, i, saw, was...|[-0.1065948501539...|[15.5730836418396...|[0.77865418209198...|       0.0|\n",
            "|        null|772470.0|Tsetsi have you e...|    0|[tsetsi, have, yo...|[-0.1842501496637...|[13.7702385856667...|[0.68851192928333...|       0.0|\n",
            "|        null|772548.0|      RIP Shiva!  :(|    0|        [rip, shiva]|[-0.2208771370351...|[14.5864551687845...|[0.72932275843922...|       0.0|\n",
            "+------------+--------+--------------------+-----+--------------------+--------------------+--------------------+--------------------+----------+\n",
            "only showing top 20 rows\n",
            "\n"
          ],
          "name": "stdout"
        }
      ]
    },
    {
      "cell_type": "code",
      "metadata": {
        "id": "C5_zTJyLtAwb"
      },
      "source": [
        "area_under_roc = evaluator.evaluate(cv_predictions)"
      ],
      "execution_count": null,
      "outputs": []
    },
    {
      "cell_type": "code",
      "metadata": {
        "id": "R_NcLpAovWj7"
      },
      "source": [
        "accuracy = cv_predictions.filter(col('label')==col('prediction')).count()/cv_predictions.count()"
      ],
      "execution_count": null,
      "outputs": []
    },
    {
      "cell_type": "code",
      "metadata": {
        "id": "5N0DNS_stOg_"
      },
      "source": [
        "bestModel = cvModel.bestModel"
      ],
      "execution_count": null,
      "outputs": []
    },
    {
      "cell_type": "code",
      "metadata": {
        "id": "n-3VsUlhtQDm",
        "colab": {
          "base_uri": "https://localhost:8080/"
        },
        "outputId": "7811c069-fe4d-4be1-d42b-59c44b54c82b"
      },
      "source": [
        "# Print evaluation metrics and best model parameters\n",
        "print('Area under ROC = ' + str(area_under_roc))\n",
        "print('Accuracy = ' + str(accuracy))\n",
        "print('**Best Model**')\n",
        "print(' MaxDepth: ' + str(bestModel._java_obj.parent().getMaxDepth()))\n",
        "print(' MaxBins: ' + str(bestModel._java_obj.parent().getMaxBins()))\n",
        "print(' NumTrees: ' + str(bestModel._java_obj.parent().getNumTrees()))"
      ],
      "execution_count": null,
      "outputs": [
        {
          "output_type": "stream",
          "text": [
            "Area under ROC = 0.9576811181631489\n",
            "Accuracy = 0.8994942841358209\n",
            "**Best Model**\n",
            " MaxDepth: 7\n",
            " MaxBins: 32\n",
            " NumTrees: 20\n"
          ],
          "name": "stdout"
        }
      ]
    },
    {
      "cell_type": "markdown",
      "metadata": {
        "id": "Vcn0OFEgArd8"
      },
      "source": [
        "### <br>**2.3 Build gradient boosting model**"
      ]
    },
    {
      "cell_type": "markdown",
      "metadata": {
        "id": "pFD1HvC9AwNQ"
      },
      "source": [
        "**2.3.1 Build an initial GBT model**<br><br>"
      ]
    },
    {
      "cell_type": "code",
      "metadata": {
        "id": "CV06eR5-28F2"
      },
      "source": [
        "from pyspark.ml.classification import GBTClassifier\n",
        "\n",
        "gbt = GBTClassifier(featuresCol='features', labelCol='label')\n",
        "gbtModel = gbt.fit(trainingData)"
      ],
      "execution_count": null,
      "outputs": []
    },
    {
      "cell_type": "code",
      "metadata": {
        "id": "wM3uy-6F5jYU"
      },
      "source": [
        "predictions = gbtModel.transform(testData)"
      ],
      "execution_count": null,
      "outputs": []
    },
    {
      "cell_type": "code",
      "metadata": {
        "id": "R55qBbLD5_Ab",
        "colab": {
          "base_uri": "https://localhost:8080/"
        },
        "outputId": "f3c50d96-9963-429f-c461-3cc50ec9345c"
      },
      "source": [
        "predictions.show()"
      ],
      "execution_count": null,
      "outputs": [
        {
          "output_type": "stream",
          "text": [
            "+------------+--------+--------------------+-----+--------------------+--------------------+--------------------+--------------------+----------+\n",
            "|creator_name|  userid|             comment|label|               words|            features|       rawPrediction|         probability|prediction|\n",
            "+------------+--------+--------------------+-----+--------------------+--------------------+--------------------+--------------------+----------+\n",
            "|        null| 18714.0|Pyara write by freed|    0|[pyara, write, by...|[-0.1094990409910...|[1.62630083715347...|[0.96276648770535...|       0.0|\n",
            "|        null| 20999.0|@JayPerView Steve...|    0|[jayperview, stev...|[-0.1273555860130...|[1.81726164796846...|[0.97428234182790...|       0.0|\n",
            "|        null| 24314.0|season 2 is almos...|    0|[season, 2, is, a...|[-0.2163066130808...|[1.22126710958151...|[0.92001377564418...|       0.0|\n",
            "|        null| 47748.0|Great picks! You ...|    0|[great, picks, yo...|[-0.1148337381226...|[1.64253440459006...|[0.96391301590653...|       0.0|\n",
            "|        null| 97815.0|A real horse woul...|    0|[a, real, horse, ...|[-0.1697133151348...|[0.58155150987679...|[0.76189609239904...|       0.0|\n",
            "|        null|147693.0|Ikr I HATED Elena...|    0|[ikr, i, hated, e...|[-0.0830796126727...|[0.43363067278168...|[0.70417552161883...|       0.0|\n",
            "|        null|205004.0|  Ahhhh 😥😁😁😁cool|    0|       [ahhhh, cool]|[0.05183250084519...|[1.49563598608223...|[0.95217826249622...|       0.0|\n",
            "|        null|247457.0|Amazing keep it up👍|    0|[amazing, keep, i...|[0.00466738129034...|[1.42722100807663...|[0.94554784256308...|       0.0|\n",
            "|        null|333142.0|       I LOVE STEFAN|    0|   [i, love, stefan]|[-0.1867455715934...|[1.58656689831775...|[0.95981064253065...|       0.0|\n",
            "|        null|354897.0|Хорошее видео! Па...|    0|                  []|         (100,[],[])|[1.52325225596644...|[0.95463137619443...|       0.0|\n",
            "|        null|358663.0|dude I cant wait ...|    0|[dude, i, cant, w...|[-0.1518448248505...|[1.24926536134864...|[0.92403875396886...|       0.0|\n",
            "|        null|410882.0|THIS EPISODE ALWA...|    0|[this, episode, a...|[-0.1530509945985...|[1.13377109320483...|[0.90615298444373...|       0.0|\n",
            "|        null|499529.0|Chula Chula beaut...|    0|[chula, chula, be...|[0.10577819868922...|[1.21486171057462...|[0.91906596220528...|       0.0|\n",
            "|        null|521306.0|Stop that!!! You ...|    0|[stop, that, you,...|[-0.1818398681602...|[1.38078867413705...|[0.94056387457130...|       0.0|\n",
            "|        null|579266.0|No Noora is gonna...|    0|[no, noora, is, g...|[-0.1302821138689...|[1.27272489774290...|[0.92726723249360...|       0.0|\n",
            "|        null|635831.0|first guy probabl...|    0|[first, guy, prob...|[-0.1187467889860...|[-0.0677802189613...|[0.46616169416388...|       1.0|\n",
            "|        null|696942.0|sois unos hijos d...|    0|[sois, unos, hijo...|[-0.0343206673545...|[1.57512136502939...|[0.95891828497457...|       0.0|\n",
            "|        null|699217.0|All I saw was dea...|    0|[all, i, saw, was...|[-0.1065948501539...|[1.01344845251061...|[0.88359228273811...|       0.0|\n",
            "|        null|772470.0|Tsetsi have you e...|    0|[tsetsi, have, yo...|[-0.1842501496637...|[1.05293040233242...|[0.89147151429617...|       0.0|\n",
            "|        null|772548.0|      RIP Shiva!  :(|    0|        [rip, shiva]|[-0.2208771370351...|[1.42042001714735...|[0.94484325652773...|       0.0|\n",
            "+------------+--------+--------------------+-----+--------------------+--------------------+--------------------+--------------------+----------+\n",
            "only showing top 20 rows\n",
            "\n"
          ],
          "name": "stdout"
        }
      ]
    },
    {
      "cell_type": "code",
      "metadata": {
        "id": "Pk-Zz5XD6BV1",
        "colab": {
          "base_uri": "https://localhost:8080/"
        },
        "outputId": "a7fe1acd-4112-4702-ba03-e1497ceb0285"
      },
      "source": [
        "evaluator = BinaryClassificationEvaluator()\n",
        "evaluator.evaluate(predictions)"
      ],
      "execution_count": null,
      "outputs": [
        {
          "output_type": "execute_result",
          "data": {
            "text/plain": [
              "0.9601373995620903"
            ]
          },
          "metadata": {
            "tags": []
          },
          "execution_count": 62
        }
      ]
    },
    {
      "cell_type": "markdown",
      "metadata": {
        "id": "UutJ_ITR6Jd7"
      },
      "source": [
        "**<br>2.3.2 Build and tune a CV model**<br><br>"
      ]
    },
    {
      "cell_type": "code",
      "metadata": {
        "id": "wgWv3lME6FJo"
      },
      "source": [
        "paramGrid = (ParamGridBuilder()\n",
        "             .addGrid(gbt.maxDepth, [3, 5, 7])\n",
        "             .addGrid(gbt.maxBins, [32, 60])\n",
        "             .addGrid(gbt.maxIter, [10, 20])\n",
        "             .build())"
      ],
      "execution_count": null,
      "outputs": []
    },
    {
      "cell_type": "code",
      "metadata": {
        "id": "iUy4USP96sxv"
      },
      "source": [
        "cv = CrossValidator(estimator=gbt, estimatorParamMaps=paramGrid, evaluator=evaluator, numFolds=5, parallelism=3)\n",
        "cvModel = cv.fit(trainingData)"
      ],
      "execution_count": null,
      "outputs": []
    },
    {
      "cell_type": "code",
      "metadata": {
        "id": "5X-GZzpJ6usL",
        "colab": {
          "base_uri": "https://localhost:8080/"
        },
        "outputId": "b5566419-c3fb-4333-e258-0d4ba72e4b41"
      },
      "source": [
        "cv_predictions = cvModel.transform(testData)\n",
        "cv_predictions.show()"
      ],
      "execution_count": null,
      "outputs": [
        {
          "output_type": "stream",
          "text": [
            "+------------+--------+--------------------+-----+--------------------+--------------------+--------------------+--------------------+----------+\n",
            "|creator_name|  userid|             comment|label|               words|            features|       rawPrediction|         probability|prediction|\n",
            "+------------+--------+--------------------+-----+--------------------+--------------------+--------------------+--------------------+----------+\n",
            "|        null| 18714.0|Pyara write by freed|    0|[pyara, write, by...|[-0.1094990409910...|[1.63173911455104...|[0.96315442506808...|       0.0|\n",
            "|        null| 20999.0|@JayPerView Steve...|    0|[jayperview, stev...|[-0.1273555860130...|[1.77861070429507...|[0.97227276942714...|       0.0|\n",
            "|        null| 24314.0|season 2 is almos...|    0|[season, 2, is, a...|[-0.2163066130808...|[1.58661638574169...|[0.95981446022981...|       0.0|\n",
            "|        null| 47748.0|Great picks! You ...|    0|[great, picks, yo...|[-0.1148337381226...|[1.31315094910279...|[0.93253526164173...|       0.0|\n",
            "|        null| 97815.0|A real horse woul...|    0|[a, real, horse, ...|[-0.1697133151348...|[0.90784550642446...|[0.86004827899276...|       0.0|\n",
            "|        null|147693.0|Ikr I HATED Elena...|    0|[ikr, i, hated, e...|[-0.0830796126727...|[0.87709997103759...|[0.85248175474240...|       0.0|\n",
            "|        null|205004.0|  Ahhhh 😥😁😁😁cool|    0|       [ahhhh, cool]|[0.05183250084519...|[1.53463870159680...|[0.95560752865810...|       0.0|\n",
            "|        null|247457.0|Amazing keep it up👍|    0|[amazing, keep, i...|[0.00466738129034...|[1.49378806588456...|[0.95200969155275...|       0.0|\n",
            "|        null|333142.0|       I LOVE STEFAN|    0|   [i, love, stefan]|[-0.1867455715934...|[1.56262042454370...|[0.95792198116990...|       0.0|\n",
            "|        null|354897.0|Хорошее видео! Па...|    0|                  []|         (100,[],[])|[1.54577117706490...|[0.95654252421066...|       0.0|\n",
            "|        null|358663.0|dude I cant wait ...|    0|[dude, i, cant, w...|[-0.1518448248505...|[0.83078072955882...|[0.84044749902249...|       0.0|\n",
            "|        null|410882.0|THIS EPISODE ALWA...|    0|[this, episode, a...|[-0.1530509945985...|[1.44432687627615...|[0.94728269286832...|       0.0|\n",
            "|        null|499529.0|Chula Chula beaut...|    0|[chula, chula, be...|[0.10577819868922...|[1.40999508600796...|[0.94374654467122...|       0.0|\n",
            "|        null|521306.0|Stop that!!! You ...|    0|[stop, that, you,...|[-0.1818398681602...|[1.64182465844753...|[0.96386360674516...|       0.0|\n",
            "|        null|579266.0|No Noora is gonna...|    0|[no, noora, is, g...|[-0.1302821138689...|[0.69141394229634...|[0.79944478692169...|       0.0|\n",
            "|        null|635831.0|first guy probabl...|    0|[first, guy, prob...|[-0.1187467889860...|[0.83233500507279...|[0.84086390071556...|       0.0|\n",
            "|        null|696942.0|sois unos hijos d...|    0|[sois, unos, hijo...|[-0.0343206673545...|[1.54515597295266...|[0.95649134872466...|       0.0|\n",
            "|        null|699217.0|All I saw was dea...|    0|[all, i, saw, was...|[-0.1065948501539...|[1.58235939064595...|[0.95948478133663...|       0.0|\n",
            "|        null|772470.0|Tsetsi have you e...|    0|[tsetsi, have, yo...|[-0.1842501496637...|[1.58415405226836...|[0.95962408185041...|       0.0|\n",
            "|        null|772548.0|      RIP Shiva!  :(|    0|        [rip, shiva]|[-0.2208771370351...|[1.54473134407560...|[0.95645599260775...|       0.0|\n",
            "+------------+--------+--------------------+-----+--------------------+--------------------+--------------------+--------------------+----------+\n",
            "only showing top 20 rows\n",
            "\n"
          ],
          "name": "stdout"
        }
      ]
    },
    {
      "cell_type": "code",
      "metadata": {
        "id": "ErOayS8v9Uw0"
      },
      "source": [
        "area_under_roc = evaluator.evaluate(cv_predictions)"
      ],
      "execution_count": null,
      "outputs": []
    },
    {
      "cell_type": "code",
      "metadata": {
        "id": "tIJwP0M89XRT"
      },
      "source": [
        "accuracy = cv_predictions.filter(col('label')==col('prediction')).count()/cv_predictions.count()"
      ],
      "execution_count": null,
      "outputs": []
    },
    {
      "cell_type": "code",
      "metadata": {
        "id": "mjG6LrOZ9ZIJ"
      },
      "source": [
        "bestModel = cvModel.bestModel"
      ],
      "execution_count": null,
      "outputs": []
    },
    {
      "cell_type": "code",
      "metadata": {
        "id": "_iNmuvkW9akd",
        "colab": {
          "base_uri": "https://localhost:8080/"
        },
        "outputId": "d18c0a7a-b864-4f66-9149-0ce4d9ed33b7"
      },
      "source": [
        "# Print evaluation metrics and best model parameters\n",
        "print('Area under ROC = ' + str(area_under_roc))\n",
        "print('Accuracy = ' + str(accuracy))\n",
        "print('**Best Model**')\n",
        "print(' MaxDepth: ' + str(bestModel._java_obj.parent().getMaxDepth()))\n",
        "print(' MaxBins: ' + str(bestModel._java_obj.parent().getMaxBins()))\n",
        "print(' MaxIter: ' + str(bestModel._java_obj.parent().getMaxIter()))"
      ],
      "execution_count": null,
      "outputs": [
        {
          "output_type": "stream",
          "text": [
            "Area under ROC = 0.9646332768640975\n",
            "Accuracy = 0.9012791636564532\n",
            "**Best Model**\n",
            " MaxDepth: 7\n",
            " MaxBins: 32\n",
            " MaxIter: 20\n"
          ],
          "name": "stdout"
        }
      ]
    },
    {
      "cell_type": "markdown",
      "metadata": {
        "id": "OByGXdHAE8l7"
      },
      "source": [
        "## <br>**3. Classify All Users Using the Best Model**\n",
        "\n",
        "I will use the Gradient Boosted Tree model to classify all users who are cat/dog owners since it gives the best Area under ROC score and accuracy.<br><br>"
      ]
    },
    {
      "cell_type": "code",
      "metadata": {
        "id": "vAA3ylxzFBNE",
        "colab": {
          "base_uri": "https://localhost:8080/"
        },
        "outputId": "00d41dff-6e9b-4634-8fe0-d8c58d34da00"
      },
      "source": [
        "full_predictions = bestModel.transform(dataset)\n",
        "full_predictions.show()"
      ],
      "execution_count": null,
      "outputs": [
        {
          "output_type": "stream",
          "text": [
            "+--------------------+------+-------------------------------------+-----+--------------------+--------------------+--------------------+--------------------+----------+\n",
            "|        creator_name|userid|                              comment|label|               words|            features|       rawPrediction|         probability|prediction|\n",
            "+--------------------+------+-------------------------------------+-----+--------------------+--------------------+--------------------+--------------------+----------+\n",
            "|        Doug The Pug|  87.0|                 I shared this to ...|    0|[i, shared, this,...|[-0.0592416396195...|[-1.0515766441385...|[0.10879071584078...|       1.0|\n",
            "|        Doug The Pug|  87.0|                   Super cute  😀🐕🐶|    0|       [super, cute]|[-0.0693858107551...|[1.56984364539198...|[0.95850044373980...|       0.0|\n",
            "|         bulletproof| 530.0|                 stop saying get e...|    0|[stop, saying, ge...|[-0.0500948655588...|[1.31956013195049...|[0.93333724913765...|       0.0|\n",
            "|       Meu Zoológico| 670.0|                 Tenho uma jiboia ...|    0|[tenho, uma, jibo...|[-0.1176272143299...|[1.67077751435183...|[0.96582720325017...|       0.0|\n",
            "|              ojatro|1031.0|                 I wanna see what ...|    0|[i, wanna, see, w...|[-0.1538532463283...|[-0.1492385693566...|[0.42592980142358...|       1.0|\n",
            "|     Tingle Triggers|1212.0|                 Well shit now Im ...|    0|[well, shit, now,...|[-0.0523558720946...|[1.09909785681077...|[0.90008736832019...|       0.0|\n",
            "|Hope For Paws - O...|1806.0|                 when I saw the en...|    0|[when, i, saw, th...|[-0.0850109684190...|[-0.7527387466526...|[0.18160999577349...|       1.0|\n",
            "|Hope For Paws - O...|2036.0|                 Holy crap. That i...|    0|[holy, crap, that...|[-0.0291302737851...|[1.61303442667290...|[0.96180359455776...|       0.0|\n",
            "|          Life Story|2637.0|武器はクエストで貰えるんじゃないん...|    0|                  []|         (100,[],[])|[1.54577117706490...|[0.95654252421066...|       0.0|\n",
            "|       Brian Barczyk|2698.0|                 Call the teddy Larry|    0|[call, the, teddy...|[-0.1600388120859...|[1.73302564703791...|[0.96970623602009...|       0.0|\n",
            "|            The Dodo|2702.0|                   😐🤔😓😢😭😭😭😭😟|    0|                  []|         (100,[],[])|[1.54577117706490...|[0.95654252421066...|       0.0|\n",
            "|Hope For Paws - O...|2911.0|                 That mother cat l...|    0|[that, mother, ca...|[-0.0547502618494...|[-1.2828200319100...|[0.07138277283112...|       1.0|\n",
            "|Hope For Paws - O...|2911.0|                 Its people like H...|    0|[its, people, lik...|[-0.1128631052871...|[1.07878692598937...|[0.89637440675162...|       0.0|\n",
            "|   Talking Kitty Cat|2911.0|                 steve: No wet foo...|    0|[steve, no, wet, ...|[-0.1267645139755...|[-0.4750459100689...|[0.27886635658058...|       1.0|\n",
            "|    Brave Wilderness|3224.0|                 Dont call this a ...|    0|[dont, call, this...|[-0.0721068799362...|[1.17580185433185...|[0.91306161447574...|       0.0|\n",
            "|          MaxluvsMya|3267.0|                 why are you alway...|    0|[why, are, you, a...|[-0.2025039130821...|[1.04740130633773...|[0.89039699301196...|       0.0|\n",
            "|Rise Up Society F...|3372.0|                           Deb Tucker|    0|       [deb, tucker]|[-0.0422175992280...|[0.24797114070677...|[0.62150527950647...|       0.0|\n",
            "|            The Dodo|3466.0|                 Thats a deer isnt...|    0|[thats, a, deer, ...|[0.02029070574790...|[1.22510839849463...|[0.92057730331514...|       0.0|\n",
            "|    Brave Wilderness|3466.0|                 there is no safe ...|    0|[there, is, no, s...|[-0.0407281471964...|[1.40970474305649...|[0.94371570869007...|       0.0|\n",
            "|    Brave Wilderness|3466.0|                 Red before yellow...|    0|[red, before, yel...|[-0.0786179743635...|[1.65951145377354...|[0.96507567390191...|       0.0|\n",
            "+--------------------+------+-------------------------------------+-----+--------------------+--------------------+--------------------+--------------------+----------+\n",
            "only showing top 20 rows\n",
            "\n"
          ],
          "name": "stdout"
        }
      ]
    },
    {
      "cell_type": "code",
      "metadata": {
        "id": "msMUnocyFrQs",
        "colab": {
          "base_uri": "https://localhost:8080/"
        },
        "outputId": "bc67fe15-7ea8-40d6-f066-6013fba07490"
      },
      "source": [
        "evaluator.evaluate(full_predictions)"
      ],
      "execution_count": null,
      "outputs": [
        {
          "output_type": "execute_result",
          "data": {
            "text/plain": [
              "0.9682779655772468"
            ]
          },
          "metadata": {
            "tags": []
          },
          "execution_count": 71
        }
      ]
    },
    {
      "cell_type": "code",
      "metadata": {
        "id": "U526cK2oFybH",
        "colab": {
          "background_save": true
        },
        "outputId": "eb87a4c4-f39d-4f10-968b-1aea63e5cb8a"
      },
      "source": [
        "fraction = full_predictions.filter(col('prediction')==1).count()/full_predictions.count()\n",
        "print('Estimated fraction of all users who are cat/dog owners = ' + str(fraction))"
      ],
      "execution_count": null,
      "outputs": [
        {
          "output_type": "stream",
          "text": [
            "Estimated fraction of all users who are cat/dog owners = 0.12318318799295547\n"
          ],
          "name": "stdout"
        }
      ]
    },
    {
      "cell_type": "markdown",
      "metadata": {
        "id": "V8_shL0cHEXB"
      },
      "source": [
        "## <br>**4. Find Topics Important to Cat/Dog Owners**"
      ]
    },
    {
      "cell_type": "markdown",
      "metadata": {
        "id": "4fOcAmsuuwda"
      },
      "source": [
        "Since the features transformed by the Word2vec model are fixed-length vectors, I will use K-means Clustering to cluster the comments of the predicted cat/dog owners, and find the most important words for each cluster using the cosine similarity between words and cluster centroids. This can be implemented by the findSynonym method of the Word2VecModel.<br><br>"
      ]
    },
    {
      "cell_type": "code",
      "metadata": {
        "id": "UOTiHg2C5hAs",
        "colab": {
          "background_save": true
        }
      },
      "source": [
        "df_clusters = full_predictions.filter(col('prediction')==1).select('features')"
      ],
      "execution_count": null,
      "outputs": []
    },
    {
      "cell_type": "code",
      "metadata": {
        "id": "je9inezH4aU1"
      },
      "source": [
        "from pyspark.ml.clustering import KMeans\n",
        "\n",
        "kmeans = KMeans(predictionCol='clusters', k=100, seed=50, distanceMeasure='cosine')\n",
        "kmeansModel = kmeans.fit(df_clusters)"
      ],
      "execution_count": null,
      "outputs": []
    },
    {
      "cell_type": "code",
      "metadata": {
        "id": "iOXi60Kv4nQF",
        "colab": {
          "base_uri": "https://localhost:8080/"
        },
        "outputId": "eb0b6107-50cf-46a8-cfe1-43cc7d1924ec"
      },
      "source": [
        "clusters_transformed = kmeansModel.transform(df_clusters)\n",
        "clusters_transformed.show()"
      ],
      "execution_count": null,
      "outputs": [
        {
          "output_type": "stream",
          "text": [
            "+--------------------+--------+\n",
            "|            features|clusters|\n",
            "+--------------------+--------+\n",
            "|[-0.0592416396195...|      62|\n",
            "|[-0.1538532463283...|       5|\n",
            "|[-0.0850109684190...|      76|\n",
            "|[-0.0547502618494...|      86|\n",
            "|[-0.1267645139755...|      74|\n",
            "|[0.11997507512569...|       0|\n",
            "|[-0.1022008544176...|       3|\n",
            "|[-0.1153158028610...|      13|\n",
            "|[-0.1294128547112...|      15|\n",
            "|[-0.0336677059531...|      91|\n",
            "|[-0.0752921120908...|      42|\n",
            "|[-0.1431008405273...|      68|\n",
            "|[-0.0798252732313...|      40|\n",
            "|[-0.0913082447981...|      24|\n",
            "|[0.02792414557188...|      55|\n",
            "|[-0.1344356139500...|      46|\n",
            "|[-0.1099661831185...|      34|\n",
            "|[-0.1099661831185...|      34|\n",
            "|[-0.0500081327045...|      24|\n",
            "|[-0.2407143215338...|      54|\n",
            "+--------------------+--------+\n",
            "only showing top 20 rows\n",
            "\n"
          ],
          "name": "stdout"
        }
      ]
    },
    {
      "cell_type": "code",
      "metadata": {
        "id": "7ZEBQBU8Ltf3",
        "colab": {
          "base_uri": "https://localhost:8080/"
        },
        "outputId": "6673c1da-ff12-4954-b36a-870485bc28b3"
      },
      "source": [
        "#evaluate clustering with silhouette score\n",
        "from pyspark.ml.evaluation import ClusteringEvaluator\n",
        "\n",
        "evaluator = ClusteringEvaluator(predictionCol='clusters', distanceMeasure='cosine')\n",
        "silhouette = evaluator.evaluate(clusters_transformed)\n",
        "print(\"Silhouette with cosine similarity = \" + str(silhouette))"
      ],
      "execution_count": null,
      "outputs": [
        {
          "output_type": "stream",
          "text": [
            "Silhouette with cosine similarity = 0.021729762635896266\n"
          ],
          "name": "stdout"
        }
      ]
    },
    {
      "cell_type": "code",
      "metadata": {
        "id": "n-kKDUDk7o2o"
      },
      "source": [
        "centers = kmeansModel.clusterCenters()"
      ],
      "execution_count": null,
      "outputs": []
    },
    {
      "cell_type": "code",
      "metadata": {
        "id": "FHF2ulAIN1Rl"
      },
      "source": [
        "#the number of comments within each cluster\n",
        "clusters_counts = clusters_transformed.groupBy('clusters').count().orderBy('clusters').toPandas()"
      ],
      "execution_count": null,
      "outputs": []
    },
    {
      "cell_type": "code",
      "metadata": {
        "id": "igMuWxdeN3E0",
        "colab": {
          "base_uri": "https://localhost:8080/",
          "height": 295
        },
        "outputId": "a1bc0183-5c50-452f-b585-d69b84619c15"
      },
      "source": [
        "plt.bar('clusters', 'count', data=clusters_counts)\n",
        "plt.xlabel('Cluster')\n",
        "plt.title('Number of Comments within Each Cluster')\n",
        "plt.show()"
      ],
      "execution_count": null,
      "outputs": [
        {
          "output_type": "display_data",
          "data": {
            "image/png": "[encoded data removed]",
            "text/plain": [
              "<Figure size 432x288 with 1 Axes>"
            ]
          },
          "metadata": {
            "tags": [],
            "needs_background": "light"
          }
        }
      ]
    },
    {
      "cell_type": "code",
      "metadata": {
        "id": "DxrgAH7Qbu2s"
      },
      "source": [
        "# print out important words of clusters\n",
        "def important_words(centers, n_words):\n",
        "  words_array = []\n",
        "  num_clusters = []\n",
        "\n",
        "  for i in range(len(centers)):\n",
        "    df_similarity = word2vecModel.findSynonyms(centers[i], n_words).toPandas()\n",
        "    if df_similarity.iloc[0, 1] > 0.75: # only select clusters with words having similarity greater than 0.75\n",
        "      alist = df_similarity['word'].to_numpy()\n",
        "      alist = np.append(alist, df_similarity.iloc[0,1])\n",
        "      words_array.append(alist)\n",
        "      num_clusters.append(i)\n",
        "  \n",
        "  df_words = pd.DataFrame(words_array)\n",
        "  columns = ['Word '+str(i) for i in range(n_words)]\n",
        "  columns.append('similarity')\n",
        "  df_words.columns = columns\n",
        "  df_words.index = ['Cluster '+str(i) for i in num_clusters]\n",
        "  df_words = df_words.sort_values(by='similarity', ascending=False)\n",
        "  return df_words.iloc[:, :df_words.shape[1] - 1]"
      ],
      "execution_count": null,
      "outputs": []
    },
    {
      "cell_type": "code",
      "metadata": {
        "id": "tLDVkX9TATir",
        "colab": {
          "base_uri": "https://localhost:8080/",
          "height": 514
        },
        "outputId": "97d03e95-b5a4-4048-909b-12cef78f149f"
      },
      "source": [
        "df_importantwords = important_words(centers, 10)\n",
        "df_importantwords.head(15)"
      ],
      "execution_count": null,
      "outputs": [
        {
          "output_type": "execute_result",
          "data": {
            "text/html": [
              "<div>\n",
              "<style scoped>\n",
              "    .dataframe tbody tr th:only-of-type {\n",
              "        vertical-align: middle;\n",
              "    }\n",
              "\n",
              "    .dataframe tbody tr th {\n",
              "        vertical-align: top;\n",
              "    }\n",
              "\n",
              "    .dataframe thead th {\n",
              "        text-align: right;\n",
              "    }\n",
              "</style>\n",
              "<table border=\"1\" class=\"dataframe\">\n",
              "  <thead>\n",
              "    <tr style=\"text-align: right;\">\n",
              "      <th></th>\n",
              "      <th>Word 0</th>\n",
              "      <th>Word 1</th>\n",
              "      <th>Word 2</th>\n",
              "      <th>Word 3</th>\n",
              "      <th>Word 4</th>\n",
              "      <th>Word 5</th>\n",
              "      <th>Word 6</th>\n",
              "      <th>Word 7</th>\n",
              "      <th>Word 8</th>\n",
              "      <th>Word 9</th>\n",
              "    </tr>\n",
              "  </thead>\n",
              "  <tbody>\n",
              "    <tr>\n",
              "      <th>Cluster 89</th>\n",
              "      <td>dog</td>\n",
              "      <td>puppy</td>\n",
              "      <td>pup</td>\n",
              "      <td>pitty</td>\n",
              "      <td>mutt</td>\n",
              "      <td>husky</td>\n",
              "      <td>rootweiler</td>\n",
              "      <td>poodle</td>\n",
              "      <td>yorkie</td>\n",
              "      <td>cat</td>\n",
              "    </tr>\n",
              "    <tr>\n",
              "      <th>Cluster 0</th>\n",
              "      <td>cat</td>\n",
              "      <td>kitten</td>\n",
              "      <td>ginger</td>\n",
              "      <td>tortie</td>\n",
              "      <td>kitty</td>\n",
              "      <td>tabby</td>\n",
              "      <td>tomcat</td>\n",
              "      <td>tortoiseshell</td>\n",
              "      <td>bangle</td>\n",
              "      <td>tuxedo</td>\n",
              "    </tr>\n",
              "    <tr>\n",
              "      <th>Cluster 31</th>\n",
              "      <td>my</td>\n",
              "      <td>memy</td>\n",
              "      <td>bettys</td>\n",
              "      <td>dads</td>\n",
              "      <td>fiances</td>\n",
              "      <td>lillo</td>\n",
              "      <td>moms</td>\n",
              "      <td>boyfriends</td>\n",
              "      <td>mums</td>\n",
              "      <td>eldest</td>\n",
              "    </tr>\n",
              "    <tr>\n",
              "      <th>Cluster 61</th>\n",
              "      <td>pomeranian</td>\n",
              "      <td>boxer</td>\n",
              "      <td>gsd</td>\n",
              "      <td>rottie</td>\n",
              "      <td>jackrussel</td>\n",
              "      <td>greyhound</td>\n",
              "      <td>samoyed</td>\n",
              "      <td>multipoo</td>\n",
              "      <td>shep</td>\n",
              "      <td>wheaten</td>\n",
              "    </tr>\n",
              "    <tr>\n",
              "      <th>Cluster 22</th>\n",
              "      <td>husky</td>\n",
              "      <td>huskey</td>\n",
              "      <td>corgi</td>\n",
              "      <td>huskie</td>\n",
              "      <td>pekingese</td>\n",
              "      <td>pomeranian</td>\n",
              "      <td>samoyed</td>\n",
              "      <td>beagle</td>\n",
              "      <td>dachshund</td>\n",
              "      <td>puppy</td>\n",
              "    </tr>\n",
              "    <tr>\n",
              "      <th>Cluster 27</th>\n",
              "      <td>ksksksks</td>\n",
              "      <td>ksksksksks</td>\n",
              "      <td>ksksks</td>\n",
              "      <td>ksksksksksks</td>\n",
              "      <td>kskskskss</td>\n",
              "      <td>ksks</td>\n",
              "      <td>robin</td>\n",
              "      <td>seplut</td>\n",
              "      <td>ksksksksk</td>\n",
              "      <td>purring</td>\n",
              "    </tr>\n",
              "    <tr>\n",
              "      <th>Cluster 44</th>\n",
              "      <td>floppycats</td>\n",
              "      <td>gsas</td>\n",
              "      <td>822799633621524480</td>\n",
              "      <td>icanvas</td>\n",
              "      <td>aprilthegiraffe</td>\n",
              "      <td>analytics</td>\n",
              "      <td>github</td>\n",
              "      <td>sendspace</td>\n",
              "      <td>threads</td>\n",
              "      <td>www</td>\n",
              "    </tr>\n",
              "    <tr>\n",
              "      <th>Cluster 96</th>\n",
              "      <td>spunky</td>\n",
              "      <td>fluffball</td>\n",
              "      <td>munchkin</td>\n",
              "      <td>puffski</td>\n",
              "      <td>fluffy</td>\n",
              "      <td>sweetly</td>\n",
              "      <td>sassy</td>\n",
              "      <td>graycie</td>\n",
              "      <td>furball</td>\n",
              "      <td>lovey</td>\n",
              "    </tr>\n",
              "    <tr>\n",
              "      <th>Cluster 90</th>\n",
              "      <td>57</td>\n",
              "      <td>41</td>\n",
              "      <td>48</td>\n",
              "      <td>53</td>\n",
              "      <td>22</td>\n",
              "      <td>52</td>\n",
              "      <td>21</td>\n",
              "      <td>27</td>\n",
              "      <td>32</td>\n",
              "      <td>44</td>\n",
              "    </tr>\n",
              "    <tr>\n",
              "      <th>Cluster 42</th>\n",
              "      <td>alfie</td>\n",
              "      <td>ellie</td>\n",
              "      <td>ziggy</td>\n",
              "      <td>gizmo</td>\n",
              "      <td>olaf</td>\n",
              "      <td>snowball</td>\n",
              "      <td>milly</td>\n",
              "      <td>cleopatra</td>\n",
              "      <td>gizzy</td>\n",
              "      <td>twinkie</td>\n",
              "    </tr>\n",
              "    <tr>\n",
              "      <th>Cluster 62</th>\n",
              "      <td>mum</td>\n",
              "      <td>mom</td>\n",
              "      <td>dad</td>\n",
              "      <td>memy</td>\n",
              "      <td>stepdad</td>\n",
              "      <td>grandma</td>\n",
              "      <td>divorcing</td>\n",
              "      <td>husband</td>\n",
              "      <td>mums</td>\n",
              "      <td>boyfriends</td>\n",
              "    </tr>\n",
              "    <tr>\n",
              "      <th>Cluster 30</th>\n",
              "      <td>porridge</td>\n",
              "      <td>cabbage</td>\n",
              "      <td>bannanas</td>\n",
              "      <td>oreos</td>\n",
              "      <td>mushy</td>\n",
              "      <td>spinach</td>\n",
              "      <td>soggy</td>\n",
              "      <td>sugary</td>\n",
              "      <td>rhubarb</td>\n",
              "      <td>grub</td>\n",
              "    </tr>\n",
              "    <tr>\n",
              "      <th>Cluster 23</th>\n",
              "      <td>gullet</td>\n",
              "      <td>uncovered</td>\n",
              "      <td>borrows</td>\n",
              "      <td>pinecones</td>\n",
              "      <td>strategically</td>\n",
              "      <td>roughness</td>\n",
              "      <td>threading</td>\n",
              "      <td>ferocity</td>\n",
              "      <td>cocoon</td>\n",
              "      <td>rakes</td>\n",
              "    </tr>\n",
              "    <tr>\n",
              "      <th>Cluster 43</th>\n",
              "      <td>dogs</td>\n",
              "      <td>purebreds</td>\n",
              "      <td>pitties</td>\n",
              "      <td>cats</td>\n",
              "      <td>orphans</td>\n",
              "      <td>pitts</td>\n",
              "      <td>muzzles</td>\n",
              "      <td>fawns</td>\n",
              "      <td>k9s</td>\n",
              "      <td>dogscats</td>\n",
              "    </tr>\n",
              "    <tr>\n",
              "      <th>Cluster 8</th>\n",
              "      <td>6months</td>\n",
              "      <td>5ish</td>\n",
              "      <td>10yrs</td>\n",
              "      <td>sixteen</td>\n",
              "      <td>17yrs</td>\n",
              "      <td>3years</td>\n",
              "      <td>3days</td>\n",
              "      <td>afew</td>\n",
              "      <td>2yrs</td>\n",
              "      <td>2years</td>\n",
              "    </tr>\n",
              "  </tbody>\n",
              "</table>\n",
              "</div>"
            ],
            "text/plain": [
              "                Word 0      Word 1  ...     Word 8      Word 9\n",
              "Cluster 89         dog       puppy  ...     yorkie         cat\n",
              "Cluster 0          cat      kitten  ...     bangle      tuxedo\n",
              "Cluster 31          my        memy  ...       mums      eldest\n",
              "Cluster 61  pomeranian       boxer  ...       shep     wheaten\n",
              "Cluster 22       husky      huskey  ...  dachshund       puppy\n",
              "Cluster 27    ksksksks  ksksksksks  ...  ksksksksk     purring\n",
              "Cluster 44  floppycats        gsas  ...    threads         www\n",
              "Cluster 96      spunky   fluffball  ...    furball       lovey\n",
              "Cluster 90          57          41  ...         32          44\n",
              "Cluster 42       alfie       ellie  ...      gizzy     twinkie\n",
              "Cluster 62         mum         mom  ...       mums  boyfriends\n",
              "Cluster 30    porridge     cabbage  ...    rhubarb        grub\n",
              "Cluster 23      gullet   uncovered  ...     cocoon       rakes\n",
              "Cluster 43        dogs   purebreds  ...        k9s    dogscats\n",
              "Cluster 8      6months        5ish  ...       2yrs      2years\n",
              "\n",
              "[15 rows x 10 columns]"
            ]
          },
          "metadata": {
            "tags": []
          },
          "execution_count": 162
        }
      ]
    },
    {
      "cell_type": "markdown",
      "metadata": {
        "id": "Cs5KVNHe11FK"
      },
      "source": [
        "<br>As can be seen from the table above, the topics important to cat/dog owners include words such as dog, cat, types of dog, family members, food, etc.<br><br>"
      ]
    },
    {
      "cell_type": "markdown",
      "metadata": {
        "id": "1KokbiGmTn7K"
      },
      "source": [
        "Additionally, I'll use K-means clustering on other users that are not predicted as cat/dog owners to find the important words in their comments, and compare the results with that of cat/dog owners. Since the features of other users include some empty vectors transformed from non-English comments which could not be used to compute cosine similarity, I'll first create a udf to exclude those comments.<br><br>"
      ]
    },
    {
      "cell_type": "code",
      "metadata": {
        "id": "nLJ0norp1Uli",
        "colab": {
          "base_uri": "https://localhost:8080/"
        },
        "outputId": "a1f0c827-1b48-4794-9485-bd906e5f3d9c"
      },
      "source": [
        "from pyspark.sql.types import *\n",
        "from pyspark.sql.functions import udf\n",
        "\n",
        "def not_empty(x):\n",
        "  array = x.toArray()\n",
        "  for i in range(len(array)):\n",
        "    if array[i] != 0:\n",
        "      return True\n",
        "  return False\n",
        "\n",
        "udf_notEmpty = udf(lambda x: not_empty(x), BooleanType())\n",
        "\n",
        "non_owners = full_predictions.filter((col('prediction')==0) & (udf_notEmpty('features'))).select('features')\n",
        "non_owners.show()"
      ],
      "execution_count": null,
      "outputs": [
        {
          "output_type": "stream",
          "text": [
            "+--------------------+\n",
            "|            features|\n",
            "+--------------------+\n",
            "|[-0.0693858107551...|\n",
            "|[-0.0500948655588...|\n",
            "|[-0.1176272143299...|\n",
            "|[-0.0523558720946...|\n",
            "|[-0.0291302737851...|\n",
            "|[-0.1600388120859...|\n",
            "|[-0.1128631052871...|\n",
            "|[-0.0721068799362...|\n",
            "|[-0.2025039130821...|\n",
            "|[-0.0422175992280...|\n",
            "|[0.02029070574790...|\n",
            "|[-0.0407281471964...|\n",
            "|[-0.0786179743635...|\n",
            "|[-0.2497448652982...|\n",
            "|[-0.0462199315428...|\n",
            "|[-0.1356396241113...|\n",
            "|[-0.1170507422648...|\n",
            "|[-0.1106693098942...|\n",
            "|[-0.1016373336315...|\n",
            "|[-0.2403986334800...|\n",
            "+--------------------+\n",
            "only showing top 20 rows\n",
            "\n"
          ],
          "name": "stdout"
        }
      ]
    },
    {
      "cell_type": "code",
      "metadata": {
        "id": "7NcBwT-bbbpQ"
      },
      "source": [
        "kmeans2 = KMeans(predictionCol='clusters', k=100, seed=50, distanceMeasure='cosine')\n",
        "kmeansModel2 = kmeans2.fit(non_owners)"
      ],
      "execution_count": null,
      "outputs": []
    },
    {
      "cell_type": "code",
      "metadata": {
        "id": "K-xwYT7ybnSR"
      },
      "source": [
        "centers2 = kmeansModel2.clusterCenters()"
      ],
      "execution_count": null,
      "outputs": []
    },
    {
      "cell_type": "code",
      "metadata": {
        "id": "ZAhfD1tLbvAg",
        "colab": {
          "base_uri": "https://localhost:8080/"
        },
        "outputId": "fa651b7b-b0bc-4a16-ee4b-b6f6f8ea60f4"
      },
      "source": [
        "transformed = kmeansModel2.transform(non_owners)\n",
        "transformed.show()"
      ],
      "execution_count": null,
      "outputs": [
        {
          "output_type": "stream",
          "text": [
            "+--------------------+--------+\n",
            "|            features|clusters|\n",
            "+--------------------+--------+\n",
            "|[-0.0693858107551...|      11|\n",
            "|[-0.0500948655588...|      20|\n",
            "|[-0.1176272143299...|      91|\n",
            "|[-0.0523558720946...|      46|\n",
            "|[-0.0291302737851...|      89|\n",
            "|[-0.1600388120859...|      22|\n",
            "|[-0.1128631052871...|      58|\n",
            "|[-0.0721068799362...|      58|\n",
            "|[-0.2025039130821...|      24|\n",
            "|[-0.0422175992280...|      91|\n",
            "|[0.02029070574790...|      92|\n",
            "|[-0.0407281471964...|       2|\n",
            "|[-0.0786179743635...|      90|\n",
            "|[-0.2497448652982...|      95|\n",
            "|[-0.0462199315428...|      33|\n",
            "|[-0.1356396241113...|       2|\n",
            "|[-0.1170507422648...|      19|\n",
            "|[-0.1106693098942...|      27|\n",
            "|[-0.1016373336315...|      85|\n",
            "|[-0.2403986334800...|       9|\n",
            "+--------------------+--------+\n",
            "only showing top 20 rows\n",
            "\n"
          ],
          "name": "stdout"
        }
      ]
    },
    {
      "cell_type": "code",
      "metadata": {
        "id": "JrEEB_roUpIN",
        "colab": {
          "base_uri": "https://localhost:8080/"
        },
        "outputId": "7f44df56-c082-4a05-ef22-c3f9ba880089"
      },
      "source": [
        "silhouette = evaluator.evaluate(transformed)\n",
        "print(\"Silhouette with cosine similarity = \" + str(silhouette))"
      ],
      "execution_count": null,
      "outputs": [
        {
          "output_type": "stream",
          "text": [
            "Silhouette with cosine similarity = 0.11404678562454351\n"
          ],
          "name": "stdout"
        }
      ]
    },
    {
      "cell_type": "code",
      "metadata": {
        "id": "Q2xjDoUnb8sw"
      },
      "source": [
        "clusters_counts2 = transformed.groupBy('clusters').count().orderBy('clusters').toPandas()"
      ],
      "execution_count": null,
      "outputs": []
    },
    {
      "cell_type": "code",
      "metadata": {
        "id": "mOht8lUlcNue",
        "colab": {
          "base_uri": "https://localhost:8080/",
          "height": 295
        },
        "outputId": "dd39bd6a-d1cd-48c7-a1dc-3d50800dcae7"
      },
      "source": [
        "plt.bar('clusters', 'count', data=clusters_counts2)\n",
        "plt.xlabel('Cluster')\n",
        "plt.title('Number of Comments within Each Cluster')\n",
        "plt.show()"
      ],
      "execution_count": null,
      "outputs": [
        {
          "output_type": "display_data",
          "data": {
            "image/png": "[encoded data removed]",
            "text/plain": [
              "<Figure size 432x288 with 1 Axes>"
            ]
          },
          "metadata": {
            "tags": [],
            "needs_background": "light"
          }
        }
      ]
    },
    {
      "cell_type": "code",
      "metadata": {
        "id": "xOUJEa3-glW9",
        "colab": {
          "base_uri": "https://localhost:8080/",
          "height": 514
        },
        "outputId": "5aabe4a0-e103-4fc2-b166-b587437799f3"
      },
      "source": [
        "df_importantwords = important_words(centers2, 10)\n",
        "df_importantwords.head(15)"
      ],
      "execution_count": null,
      "outputs": [
        {
          "output_type": "execute_result",
          "data": {
            "text/html": [
              "<div>\n",
              "<style scoped>\n",
              "    .dataframe tbody tr th:only-of-type {\n",
              "        vertical-align: middle;\n",
              "    }\n",
              "\n",
              "    .dataframe tbody tr th {\n",
              "        vertical-align: top;\n",
              "    }\n",
              "\n",
              "    .dataframe thead th {\n",
              "        text-align: right;\n",
              "    }\n",
              "</style>\n",
              "<table border=\"1\" class=\"dataframe\">\n",
              "  <thead>\n",
              "    <tr style=\"text-align: right;\">\n",
              "      <th></th>\n",
              "      <th>Word 0</th>\n",
              "      <th>Word 1</th>\n",
              "      <th>Word 2</th>\n",
              "      <th>Word 3</th>\n",
              "      <th>Word 4</th>\n",
              "      <th>Word 5</th>\n",
              "      <th>Word 6</th>\n",
              "      <th>Word 7</th>\n",
              "      <th>Word 8</th>\n",
              "      <th>Word 9</th>\n",
              "    </tr>\n",
              "  </thead>\n",
              "  <tbody>\n",
              "    <tr>\n",
              "      <th>Cluster 43</th>\n",
              "      <td>yes</td>\n",
              "      <td>yesyes</td>\n",
              "      <td>yesyou</td>\n",
              "      <td>babey</td>\n",
              "      <td>erb</td>\n",
              "      <td>yeeeeessssss</td>\n",
              "      <td>yess</td>\n",
              "      <td>yesssssssssss</td>\n",
              "      <td>yea</td>\n",
              "      <td>yesss</td>\n",
              "    </tr>\n",
              "    <tr>\n",
              "      <th>Cluster 18</th>\n",
              "      <td>farkl</td>\n",
              "      <td>gelirmi</td>\n",
              "      <td>nceden</td>\n",
              "      <td>nceki</td>\n",
              "      <td>korktu</td>\n",
              "      <td>evcil</td>\n",
              "      <td>zellikle</td>\n",
              "      <td>bekliyorum</td>\n",
              "      <td>yerli</td>\n",
              "      <td>hamile</td>\n",
              "    </tr>\n",
              "    <tr>\n",
              "      <th>Cluster 60</th>\n",
              "      <td>hi</td>\n",
              "      <td>hello</td>\n",
              "      <td>hey</td>\n",
              "      <td>hiya</td>\n",
              "      <td>hii</td>\n",
              "      <td>hiii</td>\n",
              "      <td>hiiii</td>\n",
              "      <td>heyy</td>\n",
              "      <td>goodmorning</td>\n",
              "      <td>hiiiii</td>\n",
              "    </tr>\n",
              "    <tr>\n",
              "      <th>Cluster 98</th>\n",
              "      <td>3</td>\n",
              "      <td>3v</td>\n",
              "      <td>4</td>\n",
              "      <td>2</td>\n",
              "      <td>33</td>\n",
              "      <td>5</td>\n",
              "      <td>28</td>\n",
              "      <td>56</td>\n",
              "      <td>27</td>\n",
              "      <td>22</td>\n",
              "    </tr>\n",
              "    <tr>\n",
              "      <th>Cluster 84</th>\n",
              "      <td>nhe</td>\n",
              "      <td>phan</td>\n",
              "      <td>ngay</td>\n",
              "      <td>khoi</td>\n",
              "      <td>chua</td>\n",
              "      <td>nhap</td>\n",
              "      <td>toan</td>\n",
              "      <td>chung</td>\n",
              "      <td>uoc</td>\n",
              "      <td>nho</td>\n",
              "    </tr>\n",
              "    <tr>\n",
              "      <th>Cluster 3</th>\n",
              "      <td>ch</td>\n",
              "      <td>c</td>\n",
              "      <td>ngh</td>\n",
              "      <td>vcl</td>\n",
              "      <td>loz</td>\n",
              "      <td>trc</td>\n",
              "      <td>inh</td>\n",
              "      <td>cmnr</td>\n",
              "      <td>th</td>\n",
              "      <td>khinh</td>\n",
              "    </tr>\n",
              "    <tr>\n",
              "      <th>Cluster 64</th>\n",
              "      <td>eterno</td>\n",
              "      <td>recibir</td>\n",
              "      <td>yendo</td>\n",
              "      <td>espectacular</td>\n",
              "      <td>nuevamente</td>\n",
              "      <td>sobretodo</td>\n",
              "      <td>escuchan</td>\n",
              "      <td>aveces</td>\n",
              "      <td>conseguirlo</td>\n",
              "      <td>ayudarla</td>\n",
              "    </tr>\n",
              "    <tr>\n",
              "      <th>Cluster 32</th>\n",
              "      <td>lol</td>\n",
              "      <td>haha</td>\n",
              "      <td>lmao</td>\n",
              "      <td>hahaha</td>\n",
              "      <td>hahah</td>\n",
              "      <td>hahahahaha</td>\n",
              "      <td>hahahaha</td>\n",
              "      <td>lololol</td>\n",
              "      <td>ahahaha</td>\n",
              "      <td>rofl</td>\n",
              "    </tr>\n",
              "    <tr>\n",
              "      <th>Cluster 33</th>\n",
              "      <td>quiza</td>\n",
              "      <td>probablemente</td>\n",
              "      <td>vencerlo</td>\n",
              "      <td>ademas</td>\n",
              "      <td>pues</td>\n",
              "      <td>seguramente</td>\n",
              "      <td>ahora</td>\n",
              "      <td>sino</td>\n",
              "      <td>ahi</td>\n",
              "      <td>obviamente</td>\n",
              "    </tr>\n",
              "    <tr>\n",
              "      <th>Cluster 21</th>\n",
              "      <td>maravilloso</td>\n",
              "      <td>aqu</td>\n",
              "      <td>lex23</td>\n",
              "      <td>vuestro</td>\n",
              "      <td>aporte</td>\n",
              "      <td>xito</td>\n",
              "      <td>precioso</td>\n",
              "      <td>jejeje</td>\n",
              "      <td>siempre</td>\n",
              "      <td>felicitaciones</td>\n",
              "    </tr>\n",
              "    <tr>\n",
              "      <th>Cluster 91</th>\n",
              "      <td>interesse</td>\n",
              "      <td>bixo</td>\n",
              "      <td>morto</td>\n",
              "      <td>fdp</td>\n",
              "      <td>algumas</td>\n",
              "      <td>nios</td>\n",
              "      <td>desta</td>\n",
              "      <td>banho</td>\n",
              "      <td>matou</td>\n",
              "      <td>comendo</td>\n",
              "    </tr>\n",
              "    <tr>\n",
              "      <th>Cluster 6</th>\n",
              "      <td>jaja</td>\n",
              "      <td>jeje</td>\n",
              "      <td>porfabor</td>\n",
              "      <td>jejeje</td>\n",
              "      <td>sii</td>\n",
              "      <td>jajajaja</td>\n",
              "      <td>psdt</td>\n",
              "      <td>tambien</td>\n",
              "      <td>siiiiiii</td>\n",
              "      <td>jajaj</td>\n",
              "    </tr>\n",
              "    <tr>\n",
              "      <th>Cluster 38</th>\n",
              "      <td>funco</td>\n",
              "      <td>kiero</td>\n",
              "      <td>quiero</td>\n",
              "      <td>porfavor</td>\n",
              "      <td>porfa</td>\n",
              "      <td>ganarme</td>\n",
              "      <td>ganar</td>\n",
              "      <td>funcko</td>\n",
              "      <td>funkopop</td>\n",
              "      <td>quisiera</td>\n",
              "    </tr>\n",
              "    <tr>\n",
              "      <th>Cluster 36</th>\n",
              "      <td>infomarvel</td>\n",
              "      <td>hola</td>\n",
              "      <td>exelente</td>\n",
              "      <td>amigo</td>\n",
              "      <td>excelente</td>\n",
              "      <td>dorman</td>\n",
              "      <td>trabajo</td>\n",
              "      <td>emanuel</td>\n",
              "      <td>saludos</td>\n",
              "      <td>87beamara</td>\n",
              "    </tr>\n",
              "    <tr>\n",
              "      <th>Cluster 9</th>\n",
              "      <td>25</td>\n",
              "      <td>22</td>\n",
              "      <td>11</td>\n",
              "      <td>45</td>\n",
              "      <td>15</td>\n",
              "      <td>21</td>\n",
              "      <td>7</td>\n",
              "      <td>26</td>\n",
              "      <td>35</td>\n",
              "      <td>27</td>\n",
              "    </tr>\n",
              "  </tbody>\n",
              "</table>\n",
              "</div>"
            ],
            "text/plain": [
              "                 Word 0         Word 1  ...       Word 8          Word 9\n",
              "Cluster 43          yes         yesyes  ...          yea           yesss\n",
              "Cluster 18        farkl        gelirmi  ...        yerli          hamile\n",
              "Cluster 60           hi          hello  ...  goodmorning          hiiiii\n",
              "Cluster 98            3             3v  ...           27              22\n",
              "Cluster 84          nhe           phan  ...          uoc             nho\n",
              "Cluster 3            ch              c  ...           th           khinh\n",
              "Cluster 64       eterno        recibir  ...  conseguirlo        ayudarla\n",
              "Cluster 32          lol           haha  ...      ahahaha            rofl\n",
              "Cluster 33        quiza  probablemente  ...          ahi      obviamente\n",
              "Cluster 21  maravilloso            aqu  ...      siempre  felicitaciones\n",
              "Cluster 91    interesse           bixo  ...        matou         comendo\n",
              "Cluster 6          jaja           jeje  ...     siiiiiii           jajaj\n",
              "Cluster 38        funco          kiero  ...     funkopop        quisiera\n",
              "Cluster 36   infomarvel           hola  ...      saludos       87beamara\n",
              "Cluster 9            25             22  ...           35              27\n",
              "\n",
              "[15 rows x 10 columns]"
            ]
          },
          "metadata": {
            "tags": []
          },
          "execution_count": 175
        }
      ]
    },
    {
      "cell_type": "markdown",
      "metadata": {
        "id": "RemqxMFDTdS6"
      },
      "source": [
        "<br>Compared to cat/dog owners, the topics important to other users are less meaningful, probably because the comments from other users have much greater quantity and diversity than those from cat/dog owners, and thus are more difficult to cluster. On the other hand, it shows that the important topics of cat/dog owners are distinguishable from those of other users.<br><br>"
      ]
    },
    {
      "cell_type": "markdown",
      "metadata": {
        "id": "QyTxoQZUiesm"
      },
      "source": [
        "## **5. Identify Creators with Cat/Dog Owners in The Audience**"
      ]
    },
    {
      "cell_type": "markdown",
      "metadata": {
        "id": "8O8zijOjjJ6i"
      },
      "source": [
        "I will use Spark SQL to find out creators with largest number of comments and creators with largest percentage of comments from cat/dog owners.<br><br>"
      ]
    },
    {
      "cell_type": "code",
      "metadata": {
        "id": "AxsQ9q90hZc7"
      },
      "source": [
        "full_predictions.createOrReplaceTempView('fullpredictions')"
      ],
      "execution_count": null,
      "outputs": []
    },
    {
      "cell_type": "code",
      "metadata": {
        "id": "hVb6izlhk-fJ",
        "colab": {
          "base_uri": "https://localhost:8080/"
        },
        "outputId": "f898af82-fe38-42d0-ee6a-47753344265a"
      },
      "source": [
        "# creators with largest number of comments from cat/dog owners\n",
        "num_comments = spark.sql('select creator_name, count(comment) as number_of_comments \\\n",
        "                          from fullpredictions where prediction=1 \\\n",
        "                          group by creator_name order by number_of_comments desc')\n",
        "num_comments.show()"
      ],
      "execution_count": null,
      "outputs": [
        {
          "output_type": "stream",
          "text": [
            "+--------------------+------------------+\n",
            "|        creator_name|number_of_comments|\n",
            "+--------------------+------------------+\n",
            "|    Brave Wilderness|             67364|\n",
            "|            The Dodo|             55293|\n",
            "|  Taylor Nicole Dean|             41833|\n",
            "|       Brian Barczyk|             40635|\n",
            "|        Robin Seplut|             31279|\n",
            "|Hope For Paws - O...|             24535|\n",
            "|     Gohan The Husky|             19962|\n",
            "|           Vet Ranch|             18698|\n",
            "|    Cole & Marmalade|             14724|\n",
            "|Gone to the Snow ...|             14468|\n",
            "|     Viktor Larkhill|             12537|\n",
            "|  Think Like A Horse|             12013|\n",
            "|          stacyvlogs|             11610|\n",
            "|       RaleighLink14|             10140|\n",
            "|   Talking Kitty Cat|              9286|\n",
            "|Zak Georges Dog T...|              9280|\n",
            "|            ViralHog|              8353|\n",
            "|        Mr. Max T.V.|              7720|\n",
            "|            HammyLux|              7469|\n",
            "|        Paws Channel|              6303|\n",
            "+--------------------+------------------+\n",
            "only showing top 20 rows\n",
            "\n"
          ],
          "name": "stdout"
        }
      ]
    },
    {
      "cell_type": "markdown",
      "metadata": {
        "id": "p-kA5A_k-izK"
      },
      "source": [
        "<br>After checking these creators on Youtube, I found that only a few of them are cat/dog owners; contents from other creators tend to be among more general and popular topics, such as animal rescuing, wild animals, and a few creators own pets other than cats/dogs. Of course, one thing common about these creators is that they are very popular on Youtube and over a half of them own more than 1 million subscribers. How about creators with largest percentage of comments from cat/dog owners?\n",
        "<br><br>\n"
      ]
    },
    {
      "cell_type": "code",
      "metadata": {
        "id": "nWfuLzfpmYuz",
        "colab": {
          "base_uri": "https://localhost:8080/"
        },
        "outputId": "be376727-d675-47bd-b2ba-0756472f51d9"
      },
      "source": [
        "# creators with largest percentage of comments from cat/dog owners\n",
        "per_comments = spark.sql('\\\n",
        "    with cte as \\\n",
        "    (select creator_name, \\\n",
        "     sum(case when prediction=1 then 1 else 0 end) over(partition by creator_name) as number_of_comments, \\\n",
        "     sum(case when True then 1 end) over(partition by creator_name) as total \\\n",
        "     from fullpredictions) \\\n",
        "    select creator_name, number_of_comments/total as percentage, number_of_comments \\\n",
        "    from cte \\\n",
        "    group by creator_name, percentage, number_of_comments \\\n",
        "    having number_of_comments>100 \\\n",
        "    order by percentage desc \\\n",
        "')\n",
        "per_comments.show()"
      ],
      "execution_count": null,
      "outputs": [
        {
          "output_type": "stream",
          "text": [
            "+--------------------+-------------------+------------------+\n",
            "|        creator_name|         percentage|number_of_comments|\n",
            "+--------------------+-------------------+------------------+\n",
            "|           RatGirl44| 0.5194029850746269|               174|\n",
            "|Zak Georges Dog T...|0.49700085689802914|              9280|\n",
            "|       Brent Atwater| 0.4845679012345679|               314|\n",
            "|         Larry Krohn|0.46370235934664245|               511|\n",
            "|          wingsNpaws|0.44113756613756616|               667|\n",
            "|      Floppycats.com|0.43568464730290457|               735|\n",
            "|    Lennon The Bunny|0.42797319932998323|              4599|\n",
            "|       Annas Animals| 0.4167852062588905|               293|\n",
            "|        PetDogTricks| 0.4146341463414634|               153|\n",
            "|       StormyRabbits|0.41243566560022255|              2965|\n",
            "|         CRKtraining| 0.4077669902912621|               168|\n",
            "|      Jackson Galaxy|0.38987883107626514|              1094|\n",
            "|      Stonnie Dennis| 0.3878437047756874|               268|\n",
            "|        The Rat Guru| 0.3743752839618355|               824|\n",
            "|     Jun The Groomer| 0.3734567901234568|               242|\n",
            "|           FunnyClix|  0.362043795620438|               496|\n",
            "|       Rachel Fusaro|0.35948361469712015|               362|\n",
            "|       Schnauzer Mom|0.35823950870010235|              1050|\n",
            "|        Daily Monkey|0.34560539279232566|              1333|\n",
            "|        Top Dog Tips| 0.3455056179775281|               123|\n",
            "+--------------------+-------------------+------------------+\n",
            "only showing top 20 rows\n",
            "\n"
          ],
          "name": "stdout"
        }
      ]
    },
    {
      "cell_type": "markdown",
      "metadata": {
        "id": "IeQOa0xjEcEK"
      },
      "source": [
        "<br>As shown in the table above, the highest percentage of comments from cat/dog owners for all creators is 51.9%, and almost all of them are pet owners (cat/dog/rat/rabbit/etc.), and a few dog trainers specifically. It seems that my model would be useful to find out pet owners in general, but not so accurate in recognizing cat/dog owners. <br>Note that I excluded creators with few comments (less than 100) from analysis, since the percentage from those creators may not be quite meaningful.<br><br>"
      ]
    },
    {
      "cell_type": "markdown",
      "metadata": {
        "id": "4Ami6zf01RGb"
      },
      "source": [
        "## **6. Summary**"
      ]
    },
    {
      "cell_type": "markdown",
      "metadata": {
        "id": "jF2noQga9sLc"
      },
      "source": [
        "**Motivation:**\n",
        "\n",
        "Youtube comments contain lots of useful information to be extracted from, and it has become common practice to use NLP techniques to extract features from text. Word2Vec is a powerful NLP technique to transform text into a vector space such that words sharing common contexts are located close to one another. As a pet lover, it is certainly worthwhile to use Word2Vec model to analyze youtube comments in pet-related videos, getting the features, and further classifying users who are cat/dog owners."
      ]
    },
    {
      "cell_type": "markdown",
      "metadata": {
        "id": "3lkQl68fHhIE"
      },
      "source": [
        "**Steps:**\n",
        "\n",
        "\n",
        "1.   Since the dataset is quite large (over 5 million comments), I loaded the data into Spark Dataframe, removed missing values in comment, and labeled cat/dog owners manually.\n",
        "\n",
        "2.   After tokenizing comments into words, I trained a Word2Vec model to get the features for classification, and splitted the data into training and testing data.\n",
        "\n",
        "3.   For the classification, I tried three different classifiers: logistic regression, random forest classifier, and gradient boosted trees (GBT) classifier. For every classifier I first trained and evaluated an initial model to get baseline performance, and then built a 5-fold cross-evaluation model to tune the model. The best model for this dataset is GBT classifier, with an Area under ROC score of 0.96 and accuracy of 0.90.\n",
        "\n",
        "4.   I used the GBT classifier to classify the full dataset, getting an Area under ROC score of 0.97, and estimated that 12.3% of all users in this data are cat/dog owners.\n",
        "\n",
        "5.   I used K-means Clustering to cluster the comments of predicted cat/dog owners and other users, respectively. Then I found the most important words for each cluster, using the findSynonym method of the Word2VecModel to compute the cosine similarity between words and cluster centroids.\n",
        "\n",
        "6.   I used Spark SQL to find creators with largest number of comments from cat/dog owners, as well as creators with largest statistically meaningful percentage of comments from cat/dog owners.\n",
        "\n"
      ]
    },
    {
      "cell_type": "markdown",
      "metadata": {
        "id": "s2oJigmkPSdu"
      },
      "source": [
        "**Conclusion:**\n",
        "\n",
        "In this notebook I have used Spark to analyse a dataset of youtube user comments for pet-related videos, and used Word2Vec, GBT classifier, and K-means Clustering to classify cat/dog owners and find topics important to them. The result shows that 12.3% users are cat/dog owners for pet-related videos, whose topics in comments are much more related to pets compared to other users, and up to 50% comments are from cat/dog owners for all creators of these videos. Future work could improve the model accuracy in recognizing cat/dog owners among pet owners in general, utilize these models to make personalized recommendations to pet owners, and improve topic modeling on non-pet owners to make fine-grained distinctions."
      ]
    }
  ]
}